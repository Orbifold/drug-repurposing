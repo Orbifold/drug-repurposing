{
 "cells": [
  {
   "cell_type": "markdown",
   "source": [
    "# Hypertension compounds"
   ],
   "metadata": {
    "collapsed": false,
    "pycharm": {
     "name": "#%% md\n"
    }
   }
  },
  {
   "cell_type": "markdown",
   "source": [
    "We'll use pretrained vectors to find new edges between FDA approved compounds and the hypertension disease entity."
   ],
   "metadata": {
    "collapsed": false,
    "pycharm": {
     "name": "#%% md\n"
    }
   }
  },
  {
   "cell_type": "code",
   "execution_count": 25,
   "metadata": {
    "collapsed": true
   },
   "outputs": [],
   "source": [
    "import pandas as pd\n",
    "import numpy as np\n",
    "import torch\n",
    "import csv\n",
    "import torch.nn.functional as fn"
   ]
  },
  {
   "cell_type": "markdown",
   "source": [
    "Load the DRKG knowledge graph:"
   ],
   "metadata": {
    "collapsed": false,
    "pycharm": {
     "name": "#%% md\n"
    }
   }
  },
  {
   "cell_type": "code",
   "source": [
    "drkg_file = './drkg.tsv'\n",
    "df = pd.read_csv(drkg_file, sep=\"\\t\",header = None, names = [\"h\",\"r\",\"t\"])\n",
    "triples = np.array(df.values.tolist())"
   ],
   "metadata": {
    "collapsed": false,
    "pycharm": {
     "name": "#%%\n"
    }
   },
   "execution_count": null,
   "outputs": []
  },
  {
   "cell_type": "markdown",
   "source": [
    "The data consists of semantic triples with head and tail containing the entity type:"
   ],
   "metadata": {
    "collapsed": false,
    "pycharm": {
     "name": "#%% md\n"
    }
   }
  },
  {
   "cell_type": "code",
   "execution_count": 7,
   "outputs": [
    {
     "data": {
      "text/plain": "            h                               r            t\n0  Gene::2157  bioarx::HumGenHumGen:Gene:Gene   Gene::2157\n1  Gene::2157  bioarx::HumGenHumGen:Gene:Gene   Gene::5264\n2  Gene::2157  bioarx::HumGenHumGen:Gene:Gene   Gene::2158\n3  Gene::2157  bioarx::HumGenHumGen:Gene:Gene   Gene::3309\n4  Gene::2157  bioarx::HumGenHumGen:Gene:Gene  Gene::28912",
      "text/html": "<div>\n<style scoped>\n    .dataframe tbody tr th:only-of-type {\n        vertical-align: middle;\n    }\n\n    .dataframe tbody tr th {\n        vertical-align: top;\n    }\n\n    .dataframe thead th {\n        text-align: right;\n    }\n</style>\n<table border=\"1\" class=\"dataframe\">\n  <thead>\n    <tr style=\"text-align: right;\">\n      <th></th>\n      <th>h</th>\n      <th>r</th>\n      <th>t</th>\n    </tr>\n  </thead>\n  <tbody>\n    <tr>\n      <th>0</th>\n      <td>Gene::2157</td>\n      <td>bioarx::HumGenHumGen:Gene:Gene</td>\n      <td>Gene::2157</td>\n    </tr>\n    <tr>\n      <th>1</th>\n      <td>Gene::2157</td>\n      <td>bioarx::HumGenHumGen:Gene:Gene</td>\n      <td>Gene::5264</td>\n    </tr>\n    <tr>\n      <th>2</th>\n      <td>Gene::2157</td>\n      <td>bioarx::HumGenHumGen:Gene:Gene</td>\n      <td>Gene::2158</td>\n    </tr>\n    <tr>\n      <th>3</th>\n      <td>Gene::2157</td>\n      <td>bioarx::HumGenHumGen:Gene:Gene</td>\n      <td>Gene::3309</td>\n    </tr>\n    <tr>\n      <th>4</th>\n      <td>Gene::2157</td>\n      <td>bioarx::HumGenHumGen:Gene:Gene</td>\n      <td>Gene::28912</td>\n    </tr>\n  </tbody>\n</table>\n</div>"
     },
     "execution_count": 7,
     "metadata": {},
     "output_type": "execute_result"
    }
   ],
   "source": [
    "df.head()"
   ],
   "metadata": {
    "collapsed": false,
    "pycharm": {
     "name": "#%%\n"
    }
   }
  },
  {
   "cell_type": "markdown",
   "source": [
    "The edges we are interested in are the ones between compound and disease"
   ],
   "metadata": {
    "collapsed": false,
    "pycharm": {
     "name": "#%% md\n"
    }
   }
  },
  {
   "cell_type": "code",
   "execution_count": 23,
   "outputs": [],
   "source": [
    "allowed_labels = ['Hetionet::CtD::Compound:Disease','GNBR::T::Compound:Disease']"
   ],
   "metadata": {
    "collapsed": false,
    "pycharm": {
     "name": "#%%\n"
    }
   }
  },
  {
   "cell_type": "markdown",
   "source": [
    "representing around 54K edges:"
   ],
   "metadata": {
    "collapsed": false,
    "pycharm": {
     "name": "#%% md\n"
    }
   }
  },
  {
   "cell_type": "code",
   "execution_count": 45,
   "outputs": [
    {
     "name": "stdout",
     "output_type": "stream",
     "text": [
      "amount:  54775\n"
     ]
    }
   ],
   "source": [
    "print(\"amount: \",df[df.r==\"GNBR::T::Compound:Disease\"].shape[0]+df[df.r==\"Hetionet::CtD::Compound:Disease\"].shape[0])"
   ],
   "metadata": {
    "collapsed": false,
    "pycharm": {
     "name": "#%%\n"
    }
   }
  },
  {
   "cell_type": "markdown",
   "source": [
    " [Hypertension](https://en.wikipedia.org/wiki/Hypertension) has node id \"Disease::DOID:10763\" but you can include multiple id's. Note that some diseases like COVID have variations and have separate id's in the graph."
   ],
   "metadata": {
    "collapsed": false
   }
  },
  {
   "cell_type": "code",
   "execution_count": 46,
   "outputs": [],
   "source": [
    "what_diseases = [\"Disease::DOID:10763\"]"
   ],
   "metadata": {
    "collapsed": false,
    "pycharm": {
     "name": "#%%\n"
    }
   }
  },
  {
   "cell_type": "markdown",
   "source": [
    "We will only include FDA approved compounds:"
   ],
   "metadata": {
    "collapsed": false,
    "pycharm": {
     "name": "#%% md\n"
    }
   }
  },
  {
   "cell_type": "code",
   "execution_count": 47,
   "outputs": [],
   "source": [
    "allowed_drug = []\n",
    "with open(\"./FDAApproved.tsv\", newline='', encoding='utf-8') as csvfile:\n",
    "    reader = csv.DictReader(csvfile, delimiter='\\t', fieldnames=['drug','ids'])\n",
    "    for row_val in reader:\n",
    "        allowed_drug.append(row_val['drug'])"
   ],
   "metadata": {
    "collapsed": false,
    "pycharm": {
     "name": "#%%\n"
    }
   }
  },
  {
   "cell_type": "markdown",
   "source": [
    "This represents around 5000 different substances:"
   ],
   "metadata": {
    "collapsed": false,
    "pycharm": {
     "name": "#%% md\n"
    }
   }
  },
  {
   "cell_type": "code",
   "execution_count": 18,
   "outputs": [
    {
     "data": {
      "text/plain": "8104"
     },
     "execution_count": 18,
     "metadata": {},
     "output_type": "execute_result"
    }
   ],
   "source": [
    "len(allowed_drug)"
   ],
   "metadata": {
    "collapsed": false,
    "pycharm": {
     "name": "#%%\n"
    }
   }
  },
  {
   "cell_type": "markdown",
   "source": [
    "The pretrained vectors use numeric identifiers rather than the DRKG labels, so we need load the dictionaries to convert back and forth:"
   ],
   "metadata": {
    "collapsed": false,
    "pycharm": {
     "name": "#%% md\n"
    }
   }
  },
  {
   "cell_type": "code",
   "execution_count": 48,
   "outputs": [],
   "source": [
    "entity_to_id = './entityToId.tsv'\n",
    "relation_to_id = './relationToId.tsv'"
   ],
   "metadata": {
    "collapsed": false,
    "pycharm": {
     "name": "#%%\n"
    }
   }
  },
  {
   "cell_type": "code",
   "execution_count": 49,
   "outputs": [],
   "source": [
    "entity_name_to_id = {}\n",
    "entity_id_to_name = {}\n",
    "relation_name_to_id = {}\n",
    "\n",
    "with open(entity_to_id, newline='', encoding='utf-8') as csvfile:\n",
    "    reader = csv.DictReader(csvfile, delimiter='\\t', fieldnames=['name','id'])\n",
    "    for row_val in reader:\n",
    "        entity_name_to_id[row_val['name']] = int(row_val['id'])\n",
    "        entity_id_to_name[int(row_val['id'])] = row_val['name']\n",
    "\n",
    "with open(relation_to_id, newline='', encoding='utf-8') as csvfile:\n",
    "    reader = csv.DictReader(csvfile, delimiter='\\t', fieldnames=['name','id'])\n",
    "    for row_val in reader:\n",
    "        relation_name_to_id[row_val['name']] = int(row_val['id'])\n",
    "\n",
    "\n",
    "allowed_drug_ids = []\n",
    "disease_ids = []\n",
    "for drug in allowed_drug:\n",
    "    allowed_drug_ids.append(entity_name_to_id[drug])\n",
    "\n",
    "for disease in what_diseases:\n",
    "    disease_ids.append(entity_name_to_id[disease])\n",
    "\n",
    "allowed_relation_ids = [relation_name_to_id[treat]  for treat in allowed_labels]"
   ],
   "metadata": {
    "collapsed": false,
    "pycharm": {
     "name": "#%%\n"
    }
   }
  },
  {
   "cell_type": "code",
   "execution_count": 51,
   "outputs": [],
   "source": [
    "entity_emb = np.load('./entity_vectors.npy')\n",
    "rel_emb = np.load('./relation_vectors.npy')\n",
    "\n",
    "allowed_drug_ids = torch.tensor(allowed_drug_ids).long()\n",
    "disease_ids = torch.tensor(disease_ids).long()\n",
    "allowed_relation_ids = torch.tensor(allowed_relation_ids)\n",
    "\n",
    "allowed_drug_tensors = torch.tensor(entity_emb[allowed_drug_ids])\n",
    "allowed_relation_tensors = [torch.tensor(rel_emb[rel]) for rel in allowed_relation_ids]"
   ],
   "metadata": {
    "collapsed": false,
    "pycharm": {
     "name": "#%%\n"
    }
   }
  },
  {
   "cell_type": "code",
   "execution_count": 43,
   "outputs": [
    {
     "name": "stdout",
     "output_type": "stream",
     "text": [
      "node vectors:  97238 ,edge vectors:  107\n"
     ]
    }
   ],
   "source": [
    "print(\"node vectors: \",len(entity_emb),\",edge vectors: \",len(rel_emb))"
   ],
   "metadata": {
    "collapsed": false,
    "pycharm": {
     "name": "#%%\n"
    }
   }
  },
  {
   "cell_type": "markdown",
   "source": [
    "Neighborhood deficit computation based on the embedding vectors:"
   ],
   "metadata": {
    "collapsed": false,
    "pycharm": {
     "name": "#%% md\n"
    }
   }
  },
  {
   "cell_type": "code",
   "execution_count": 62,
   "outputs": [],
   "source": [
    "threshold= 20\n",
    "def score(h, r, t):\n",
    "    return fn.logsigmoid(threshold - torch.norm(h + r - t, p=2, dim=-1))\n",
    "\n",
    "allowed_drug_scores = []\n",
    "drug_ids = []\n",
    "for relation_tensor in range(len(allowed_relation_tensors)):\n",
    "    rel_vector = allowed_relation_tensors[relation_tensor]\n",
    "    for disease_id in disease_ids:\n",
    "        disease_vector = entity_emb[disease_id]\n",
    "        drug_score = score(allowed_drug_tensors, rel_vector, disease_vector)\n",
    "        allowed_drug_scores.append(drug_score)\n",
    "        drug_ids.append(allowed_drug_ids)\n",
    "scores = torch.cat(allowed_drug_scores)\n",
    "drug_ids = torch.cat(drug_ids)"
   ],
   "metadata": {
    "collapsed": false,
    "pycharm": {
     "name": "#%%\n"
    }
   }
  },
  {
   "cell_type": "code",
   "execution_count": 63,
   "outputs": [],
   "source": [
    "idx = torch.flip(torch.argsort(scores), dims=[0])\n",
    "scores = scores[idx].numpy()\n",
    "drug_ids = drug_ids[idx].numpy()\n",
    "_, unique_indices = np.unique(drug_ids, return_index=True)\n",
    "# top 10\n",
    "topk_indices = np.sort(unique_indices)[:10]\n",
    "proposed_dids = drug_ids[topk_indices]\n",
    "proposed_scores = scores[topk_indices]"
   ],
   "metadata": {
    "collapsed": false,
    "pycharm": {
     "name": "#%%\n"
    }
   }
  },
  {
   "cell_type": "code",
   "execution_count": 65,
   "outputs": [
    {
     "name": "stdout",
     "output_type": "stream",
     "text": [
      "Compound::DB00584\t-1.883488948806189e-05\n",
      "Compound::DB00521\t-2.2053474822314456e-05\n",
      "Compound::DB00492\t-2.586808113846928e-05\n",
      "Compound::DB00275\t-2.6464111215318553e-05\n",
      "Compound::DB00869\t-2.6702524337451905e-05\n",
      "Compound::DB00524\t-2.8609820219571702e-05\n",
      "Compound::DB00421\t-2.8967437174287625e-05\n",
      "Compound::DB00722\t-2.9682672902708873e-05\n",
      "Compound::DB00528\t-3.0397906812140718e-05\n",
      "Compound::DB00612\t-3.0874729418428615e-05\n"
     ]
    }
   ],
   "source": [
    "for i in range(10):\n",
    "    drug = int(proposed_dids[i])\n",
    "    score = proposed_scores[i]\n",
    "\n",
    "    print(\"{}\\t{}\".format(entity_id_to_name[drug], score))"
   ],
   "metadata": {
    "collapsed": false,
    "pycharm": {
     "name": "#%%\n"
    }
   }
  },
  {
   "cell_type": "markdown",
   "source": [
    "[Enalapril](https://go.drugbank.com/drugs/DB00584) is the most likely treatment and it can be checked."
   ],
   "metadata": {
    "collapsed": false,
    "pycharm": {
     "name": "#%% md\n"
    }
   }
  }
 ],
 "metadata": {
  "kernelspec": {
   "display_name": "Python 3",
   "language": "python",
   "name": "python3"
  },
  "language_info": {
   "codemirror_mode": {
    "name": "ipython",
    "version": 2
   },
   "file_extension": ".py",
   "mimetype": "text/x-python",
   "name": "python",
   "nbconvert_exporter": "python",
   "pygments_lexer": "ipython2",
   "version": "2.7.6"
  }
 },
 "nbformat": 4,
 "nbformat_minor": 0
}