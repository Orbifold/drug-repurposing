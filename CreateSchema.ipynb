{
 "cells": [
  {
   "cell_type": "markdown",
   "id": "5ecd5de6",
   "metadata": {},
   "source": [
    "# DRKG TigerGraph Schema and Import"
   ]
  },
  {
   "cell_type": "markdown",
   "id": "33ee741e",
   "metadata": {},
   "source": [
    "## Connecting"
   ]
  },
  {
   "cell_type": "markdown",
   "source": [
    "Make sure you install pyTigerGraph (`pip install pyTigerGraph`) as well as Pandas and Numpy (`conda install pandas numpy`)."
   ],
   "metadata": {
    "collapsed": false,
    "pycharm": {
     "name": "#%% md\n"
    }
   }
  },
  {
   "cell_type": "code",
   "execution_count": null,
   "outputs": [],
   "source": [
    "import pyTigerGraph as tg\n",
    "import numpy as np\n",
    "import pandas as pd"
   ],
   "metadata": {
    "collapsed": false,
    "pycharm": {
     "name": "#%%\n"
    }
   }
  },
  {
   "cell_type": "code",
   "execution_count": 128,
   "id": "149cc636",
   "metadata": {},
   "outputs": [],
   "source": [
    "host = 'https://your-organization.i.tgcloud.io'\n",
    "secret = \"your-secret\"\n",
    "graph_name = \"drkg\"\n",
    "user_name = \"tigergraph\"\n",
    "password = \"your-password\"\n",
    "token = tg.TigerGraphConnection(host=host, graphname=graph_name, username=user_name, password=password).getToken(secret, \"1000000\")[0]\n",
    "conn = tg.TigerGraphConnection(host=host, graphname=graph_name, username=user_name, password=password, apiToken=token)"
   ]
  },
  {
   "cell_type": "code",
   "execution_count": 129,
   "id": "74b653e1",
   "metadata": {},
   "outputs": [
    {
     "data": {
      "text/plain": [
       "'Hello GSQL'"
      ]
     },
     "execution_count": 129,
     "metadata": {},
     "output_type": "execute_result"
    }
   ],
   "source": [
    "conn.echo()"
   ]
  },
  {
   "cell_type": "markdown",
   "id": "107f1ff4",
   "metadata": {},
   "source": [
    "## Schema"
   ]
  },
  {
   "cell_type": "code",
   "execution_count": 17,
   "id": "a993d6e0",
   "metadata": {
    "collapsed": true
   },
   "outputs": [],
   "source": [
    "import pandas as pd\n",
    "drkg_file = './drkg.tsv'\n",
    "df = pd.read_csv(drkg_file, sep=\"\\t\",header = None)\n",
    "triplets = df.values.tolist()"
   ]
  },
  {
   "cell_type": "code",
   "execution_count": 84,
   "id": "275b86ce",
   "metadata": {},
   "outputs": [
    {
     "data": {
      "text/plain": [
       "5874260"
      ]
     },
     "execution_count": 84,
     "metadata": {},
     "output_type": "execute_result"
    }
   ],
   "source": [
    "len(triplets)"
   ]
  },
  {
   "cell_type": "code",
   "execution_count": 48,
   "id": "716c9f9b",
   "metadata": {
    "collapsed": true
   },
   "outputs": [
    {
     "name": "stdout",
     "output_type": "stream",
     "text": [
      "CREATE VERTEX Gene (PRIMARY_ID Id STRING) With primary_id_as_attribute=\"true\"\n",
      "CREATE VERTEX Compound (PRIMARY_ID Id STRING) With primary_id_as_attribute=\"true\"\n",
      "CREATE VERTEX Disease (PRIMARY_ID Id STRING) With primary_id_as_attribute=\"true\"\n",
      "CREATE VERTEX Atc (PRIMARY_ID Id STRING) With primary_id_as_attribute=\"true\"\n",
      "CREATE VERTEX Tax (PRIMARY_ID Id STRING) With primary_id_as_attribute=\"true\"\n",
      "CREATE VERTEX BiologicalProcess (PRIMARY_ID Id STRING) With primary_id_as_attribute=\"true\"\n",
      "CREATE VERTEX Symptom (PRIMARY_ID Id STRING) With primary_id_as_attribute=\"true\"\n",
      "CREATE VERTEX Anatomy (PRIMARY_ID Id STRING) With primary_id_as_attribute=\"true\"\n",
      "CREATE VERTEX MolecularFunction (PRIMARY_ID Id STRING) With primary_id_as_attribute=\"true\"\n",
      "CREATE VERTEX PharmacologicClass (PRIMARY_ID Id STRING) With primary_id_as_attribute=\"true\"\n",
      "CREATE VERTEX CellularComponent (PRIMARY_ID Id STRING) With primary_id_as_attribute=\"true\"\n",
      "CREATE VERTEX Pathway (PRIMARY_ID Id STRING) With primary_id_as_attribute=\"true\"\n",
      "CREATE VERTEX SideEffect (PRIMARY_ID Id STRING) With primary_id_as_attribute=\"true\"\n",
      "CREATE DIRECTED EDGE bioarxHumGenHumGenGeneGene (FROM Gene, TO Gene)\n",
      "CREATE DIRECTED EDGE bioarxVirGenHumGenGeneGene (FROM Gene, TO Gene)\n",
      "CREATE DIRECTED EDGE GNBRVGeneGene (FROM Gene, TO Gene)\n",
      "CREATE DIRECTED EDGE GNBRQGeneGene (FROM Gene, TO Gene)\n",
      "CREATE DIRECTED EDGE GNBRRgGeneGene (FROM Gene, TO Gene)\n",
      "CREATE DIRECTED EDGE GNBRBGeneGene (FROM Gene, TO Gene)\n",
      "CREATE DIRECTED EDGE GNBRIGeneGene (FROM Gene, TO Gene)\n",
      "CREATE DIRECTED EDGE GNBREGeneGene (FROM Gene, TO Gene)\n",
      "CREATE DIRECTED EDGE GNBRHGeneGene (FROM Gene, TO Gene)\n",
      "CREATE DIRECTED EDGE GNBRWGeneGene (FROM Gene, TO Gene)\n",
      "CREATE DIRECTED EDGE HetionetGiGGeneGene (FROM Gene, TO Gene)\n",
      "CREATE DIRECTED EDGE HetionetGcGGeneGene (FROM Gene, TO Gene)\n",
      "CREATE DIRECTED EDGE HetionetGrGGeneGene (FROM Gene, TO Gene)\n",
      "CREATE DIRECTED EDGE INTACTASSOCIATIONGeneGene (FROM Gene, TO Gene)\n",
      "CREATE DIRECTED EDGE INTACTPHYSICALASSOCIATIONGeneGene (FROM Gene, TO Gene)\n",
      "CREATE DIRECTED EDGE INTACTCOLOCALIZATIONGeneGene (FROM Gene, TO Gene)\n",
      "CREATE DIRECTED EDGE INTACTDEPHOSPHORYLATIONREACTIONGeneGene (FROM Gene, TO Gene)\n",
      "CREATE DIRECTED EDGE INTACTCLEAVAGEREACTIONGeneGene (FROM Gene, TO Gene)\n",
      "CREATE DIRECTED EDGE INTACTDIRECTINTERACTIONGeneGene (FROM Gene, TO Gene)\n",
      "CREATE DIRECTED EDGE INTACTPHOSPHORYLATIONREACTIONGeneGene (FROM Gene, TO Gene)\n",
      "CREATE DIRECTED EDGE INTACTADPRIBOSYLATIONREACTIONGeneGene (FROM Gene, TO Gene)\n",
      "CREATE DIRECTED EDGE INTACTUBIQUITINATIONREACTIONGeneGene (FROM Gene, TO Gene)\n",
      "CREATE DIRECTED EDGE INTACTPROTEINCLEAVAGEGeneGene (FROM Gene, TO Gene)\n",
      "CREATE DIRECTED EDGE STRINGREACTIONGeneGene (FROM Gene, TO Gene)\n",
      "CREATE DIRECTED EDGE STRINGCATALYSISGeneGene (FROM Gene, TO Gene)\n",
      "CREATE DIRECTED EDGE STRINGACTIVATIONGeneGene (FROM Gene, TO Gene)\n",
      "CREATE DIRECTED EDGE STRINGINHIBITIONGeneGene (FROM Gene, TO Gene)\n",
      "CREATE DIRECTED EDGE STRINGOTHERGeneGene (FROM Gene, TO Gene)\n",
      "CREATE DIRECTED EDGE STRINGBINDINGGeneGene (FROM Gene, TO Gene)\n",
      "CREATE DIRECTED EDGE STRINGPTMODGeneGene (FROM Gene, TO Gene)\n",
      "CREATE DIRECTED EDGE STRINGEXPRESSIONGeneGene (FROM Gene, TO Gene)\n",
      "CREATE DIRECTED EDGE bioarxDrugVirGenCompoundGene (FROM Compound, TO Gene)\n",
      "CREATE DIRECTED EDGE bioarxDrugHumGenCompoundGene (FROM Compound, TO Gene)\n",
      "CREATE DIRECTED EDGE DRUGBANKtargetCompoundGene (FROM Compound, TO Gene)\n",
      "CREATE DIRECTED EDGE DRUGBANKenzymeCompoundGene (FROM Compound, TO Gene)\n",
      "CREATE DIRECTED EDGE DRUGBANKcarrierCompoundGene (FROM Compound, TO Gene)\n",
      "CREATE DIRECTED EDGE GNBRECompoundGene (FROM Compound, TO Gene)\n",
      "CREATE DIRECTED EDGE GNBRACompoundGene (FROM Compound, TO Gene)\n",
      "CREATE DIRECTED EDGE GNBRNCompoundGene (FROM Compound, TO Gene)\n",
      "CREATE DIRECTED EDGE GNBRKCompoundGene (FROM Compound, TO Gene)\n",
      "CREATE DIRECTED EDGE GNBRBCompoundGene (FROM Compound, TO Gene)\n",
      "CREATE DIRECTED EDGE GNBROCompoundGene (FROM Compound, TO Gene)\n",
      "CREATE DIRECTED EDGE GNBRZCompoundGene (FROM Compound, TO Gene)\n",
      "CREATE DIRECTED EDGE HetionetCbGCompoundGene (FROM Compound, TO Gene)\n",
      "CREATE DIRECTED EDGE HetionetCuGCompoundGene (FROM Compound, TO Gene)\n",
      "CREATE DIRECTED EDGE HetionetCdGCompoundGene (FROM Compound, TO Gene)\n",
      "CREATE DIRECTED EDGE INTACTPHYSICALASSOCIATIONCompoundGene (FROM Compound, TO Gene)\n",
      "CREATE DIRECTED EDGE INTACTDIRECTINTERACTIONCompoundGene (FROM Compound, TO Gene)\n",
      "CREATE DIRECTED EDGE INTACTASSOCIATIONCompoundGene (FROM Compound, TO Gene)\n",
      "CREATE DIRECTED EDGE bioarxCovid2_acc_host_geneDiseaseGene (FROM Disease, TO Gene)\n",
      "CREATE DIRECTED EDGE bioarxCoronavirus_ass_host_geneDiseaseGene (FROM Disease, TO Gene)\n",
      "CREATE DIRECTED EDGE HetionetDdGDiseaseGene (FROM Disease, TO Gene)\n",
      "CREATE DIRECTED EDGE HetionetDaGDiseaseGene (FROM Disease, TO Gene)\n",
      "CREATE DIRECTED EDGE HetionetDuGDiseaseGene (FROM Disease, TO Gene)\n",
      "CREATE DIRECTED EDGE DGIDBINHIBITORGeneCompound (FROM Gene, TO Compound)\n",
      "CREATE DIRECTED EDGE DGIDBANTAGONISTGeneCompound (FROM Gene, TO Compound)\n",
      "CREATE DIRECTED EDGE DGIDBOTHERGeneCompound (FROM Gene, TO Compound)\n",
      "CREATE DIRECTED EDGE DGIDBAGONISTGeneCompound (FROM Gene, TO Compound)\n",
      "CREATE DIRECTED EDGE DGIDBBINDERGeneCompound (FROM Gene, TO Compound)\n",
      "CREATE DIRECTED EDGE DGIDBMODULATORGeneCompound (FROM Gene, TO Compound)\n",
      "CREATE DIRECTED EDGE DGIDBBLOCKERGeneCompound (FROM Gene, TO Compound)\n",
      "CREATE DIRECTED EDGE DGIDBCHANNELBLOCKERGeneCompound (FROM Gene, TO Compound)\n",
      "CREATE DIRECTED EDGE DGIDBANTIBODYGeneCompound (FROM Gene, TO Compound)\n",
      "CREATE DIRECTED EDGE DGIDBPOSITIVEALLOSTERICMODULATORGeneCompound (FROM Gene, TO Compound)\n",
      "CREATE DIRECTED EDGE DGIDBALLOSTERICMODULATORGeneCompound (FROM Gene, TO Compound)\n",
      "CREATE DIRECTED EDGE DGIDBACTIVATORGeneCompound (FROM Gene, TO Compound)\n",
      "CREATE DIRECTED EDGE DGIDBPARTIALAGONISTGeneCompound (FROM Gene, TO Compound)\n",
      "CREATE DIRECTED EDGE DRUGBANKxatcCompoundAtc (FROM Compound, TO Atc)\n",
      "CREATE DIRECTED EDGE DRUGBANKddiinteractorinCompoundCompound (FROM Compound, TO Compound)\n",
      "CREATE DIRECTED EDGE HetionetCrCCompoundCompound (FROM Compound, TO Compound)\n",
      "CREATE DIRECTED EDGE DRUGBANKtreatsCompoundDisease (FROM Compound, TO Disease)\n",
      "CREATE DIRECTED EDGE GNBRTCompoundDisease (FROM Compound, TO Disease)\n",
      "CREATE DIRECTED EDGE GNBRCCompoundDisease (FROM Compound, TO Disease)\n",
      "CREATE DIRECTED EDGE GNBRSaCompoundDisease (FROM Compound, TO Disease)\n",
      "CREATE DIRECTED EDGE GNBRPaCompoundDisease (FROM Compound, TO Disease)\n",
      "CREATE DIRECTED EDGE GNBRMpCompoundDisease (FROM Compound, TO Disease)\n",
      "CREATE DIRECTED EDGE GNBRPrCompoundDisease (FROM Compound, TO Disease)\n",
      "CREATE DIRECTED EDGE GNBRJCompoundDisease (FROM Compound, TO Disease)\n",
      "CREATE DIRECTED EDGE HetionetCtDCompoundDisease (FROM Compound, TO Disease)\n",
      "CREATE DIRECTED EDGE HetionetCpDCompoundDisease (FROM Compound, TO Disease)\n",
      "CREATE DIRECTED EDGE GNBRLGeneDisease (FROM Gene, TO Disease)\n",
      "CREATE DIRECTED EDGE GNBRUGeneDisease (FROM Gene, TO Disease)\n",
      "CREATE DIRECTED EDGE GNBRYGeneDisease (FROM Gene, TO Disease)\n",
      "CREATE DIRECTED EDGE GNBRJGeneDisease (FROM Gene, TO Disease)\n",
      "CREATE DIRECTED EDGE GNBRTeGeneDisease (FROM Gene, TO Disease)\n",
      "CREATE DIRECTED EDGE GNBRMdGeneDisease (FROM Gene, TO Disease)\n",
      "CREATE DIRECTED EDGE GNBRGGeneDisease (FROM Gene, TO Disease)\n",
      "CREATE DIRECTED EDGE GNBRDGeneDisease (FROM Gene, TO Disease)\n",
      "CREATE DIRECTED EDGE GNBRXGeneDisease (FROM Gene, TO Disease)\n",
      "CREATE DIRECTED EDGE GNBRUdGeneDisease (FROM Gene, TO Disease)\n",
      "CREATE DIRECTED EDGE GNBRin_taxGeneTax (FROM Gene, TO Tax)\n",
      "CREATE DIRECTED EDGE HetionetGpBPGeneBiologicalProcess (FROM Gene, TO BiologicalProcess)\n",
      "CREATE DIRECTED EDGE HetionetDpSDiseaseSymptom (FROM Disease, TO Symptom)\n",
      "CREATE DIRECTED EDGE HetionetDlADiseaseAnatomy (FROM Disease, TO Anatomy)\n",
      "CREATE DIRECTED EDGE HetionetDrDDiseaseDisease (FROM Disease, TO Disease)\n",
      "CREATE DIRECTED EDGE HetionetAdGAnatomyGene (FROM Anatomy, TO Gene)\n",
      "CREATE DIRECTED EDGE HetionetAuGAnatomyGene (FROM Anatomy, TO Gene)\n",
      "CREATE DIRECTED EDGE HetionetAeGAnatomyGene (FROM Anatomy, TO Gene)\n",
      "CREATE DIRECTED EDGE HetionetGpMFGeneMolecularFunction (FROM Gene, TO MolecularFunction)\n",
      "CREATE DIRECTED EDGE HetionetPCiCPharmacologicClassCompound (FROM PharmacologicClass, TO Compound)\n",
      "CREATE DIRECTED EDGE HetionetGpCCGeneCellularComponent (FROM Gene, TO CellularComponent)\n",
      "CREATE DIRECTED EDGE HetionetGpPWGenePathway (FROM Gene, TO Pathway)\n",
      "CREATE DIRECTED EDGE HetionetCcSECompoundSideEffect (FROM Compound, TO SideEffect)\n",
      "\n"
     ]
    }
   ],
   "source": [
    "rtypes = dict() # edge types per entity-couple\n",
    "entity_dic = {} # entities organized per type\n",
    "for triplet in triplets:\n",
    "    [h,r,t] = triplet\n",
    "    h_type = h.split(\"::\")[0].replace(\" \" ,\"\")\n",
    "    h_id = str(h.split(\"::\")[1])\n",
    "    t_type = t.split(\"::\")[0].replace(\" \" ,\"\")\n",
    "    t_id = str(t.split(\"::\")[1])\n",
    "    \n",
    "    # add the type if not present\n",
    "    if not h_type in entity_dic:\n",
    "        entity_dic[h_type]={}\n",
    "    if not t_type in entity_dic:\n",
    "        entity_dic[t_type] ={}\n",
    "    \n",
    "    # add the edge type per type couple\n",
    "    type_edge = f\"{h_type}::{t_type}\"\n",
    "    if not type_edge in rtypes:\n",
    "        rtypes[type_edge]=[]\n",
    "    r = r.replace(\" \",\"\").replace(\":\",\"\").replace(\"+\",\"\").replace(\">\",\"\").replace(\"-\",\"\")\n",
    "    if not r in rtypes[type_edge]:\n",
    "        rtypes[type_edge].append(r)\n",
    "    \n",
    "    # spread entities\n",
    "    if not h_id in entity_dic[h_type]:\n",
    "        entity_dic[h_type][h_id] = h\n",
    "    if not t in entity_dic[t_type]:\n",
    "        entity_dic[t_type][t_id] = t\n",
    "    \n",
    "schema = \"\"\n",
    "for entity_type in entity_dic.keys():\n",
    "    schema += f\"CREATE VERTEX {entity_type} (PRIMARY_ID Id STRING) With primary_id_as_attribute=\\\"true\\\"\\n\"\n",
    "for endpoints in rtypes:\n",
    "    [source_name, target_name] = endpoints.split(\"::\")\n",
    "    for edge_name in rtypes[endpoints]:\n",
    "        schema += f\"CREATE DIRECTED EDGE {edge_name} (FROM {source_name}, TO {target_name})\\n\"\n",
    "print(schema)"
   ]
  },
  {
   "cell_type": "code",
   "execution_count": 49,
   "id": "98c83bfc",
   "metadata": {
    "collapsed": true
   },
   "outputs": [
    {
     "name": "stdout",
     "output_type": "stream",
     "text": [
      "Successfully created vertex types: [Gene].\n",
      "Successfully created vertex types: [Compound].\n",
      "Successfully created vertex types: [Disease].\n",
      "Successfully created vertex types: [Atc].\n",
      "Successfully created vertex types: [Tax].\n",
      "Successfully created vertex types: [BiologicalProcess].\n",
      "Successfully created vertex types: [Symptom].\n",
      "Successfully created vertex types: [Anatomy].\n",
      "Successfully created vertex types: [MolecularFunction].\n",
      "Successfully created vertex types: [PharmacologicClass].\n",
      "Successfully created vertex types: [CellularComponent].\n",
      "Successfully created vertex types: [Pathway].\n",
      "Successfully created vertex types: [SideEffect].\n",
      "Successfully created edge types: [bioarxHumGenHumGenGeneGene].\n",
      "Successfully created edge types: [bioarxVirGenHumGenGeneGene].\n",
      "Successfully created edge types: [GNBRVGeneGene].\n",
      "Successfully created edge types: [GNBRQGeneGene].\n",
      "Successfully created edge types: [GNBRRgGeneGene].\n",
      "Successfully created edge types: [GNBRBGeneGene].\n",
      "Successfully created edge types: [GNBRIGeneGene].\n",
      "Successfully created edge types: [GNBREGeneGene].\n",
      "Successfully created edge types: [GNBRHGeneGene].\n",
      "Successfully created edge types: [GNBRWGeneGene].\n",
      "Successfully created edge types: [HetionetGiGGeneGene].\n",
      "Successfully created edge types: [HetionetGcGGeneGene].\n",
      "Successfully created edge types: [HetionetGrGGeneGene].\n",
      "Successfully created edge types: [INTACTASSOCIATIONGeneGene].\n",
      "Successfully created edge types: [INTACTPHYSICALASSOCIATIONGeneGene].\n",
      "Successfully created edge types: [INTACTCOLOCALIZATIONGeneGene].\n",
      "Successfully created edge types: [INTACTDEPHOSPHORYLATIONREACTIONGeneGene].\n",
      "Successfully created edge types: [INTACTCLEAVAGEREACTIONGeneGene].\n",
      "Successfully created edge types: [INTACTDIRECTINTERACTIONGeneGene].\n",
      "Successfully created edge types: [INTACTPHOSPHORYLATIONREACTIONGeneGene].\n",
      "Successfully created edge types: [INTACTADPRIBOSYLATIONREACTIONGeneGene].\n",
      "Successfully created edge types: [INTACTUBIQUITINATIONREACTIONGeneGene].\n",
      "Successfully created edge types: [INTACTPROTEINCLEAVAGEGeneGene].\n",
      "Successfully created edge types: [STRINGREACTIONGeneGene].\n",
      "Successfully created edge types: [STRINGCATALYSISGeneGene].\n",
      "Successfully created edge types: [STRINGACTIVATIONGeneGene].\n",
      "Successfully created edge types: [STRINGINHIBITIONGeneGene].\n",
      "Successfully created edge types: [STRINGOTHERGeneGene].\n",
      "Successfully created edge types: [STRINGBINDINGGeneGene].\n",
      "Successfully created edge types: [STRINGPTMODGeneGene].\n",
      "Successfully created edge types: [STRINGEXPRESSIONGeneGene].\n",
      "Successfully created edge types: [bioarxDrugVirGenCompoundGene].\n",
      "Successfully created edge types: [bioarxDrugHumGenCompoundGene].\n",
      "Successfully created edge types: [DRUGBANKtargetCompoundGene].\n",
      "Successfully created edge types: [DRUGBANKenzymeCompoundGene].\n",
      "Successfully created edge types: [DRUGBANKcarrierCompoundGene].\n",
      "Successfully created edge types: [GNBRECompoundGene].\n",
      "Successfully created edge types: [GNBRACompoundGene].\n",
      "Successfully created edge types: [GNBRNCompoundGene].\n",
      "Successfully created edge types: [GNBRKCompoundGene].\n",
      "Successfully created edge types: [GNBRBCompoundGene].\n",
      "Successfully created edge types: [GNBROCompoundGene].\n",
      "Successfully created edge types: [GNBRZCompoundGene].\n",
      "Successfully created edge types: [HetionetCbGCompoundGene].\n",
      "Successfully created edge types: [HetionetCuGCompoundGene].\n",
      "Successfully created edge types: [HetionetCdGCompoundGene].\n",
      "Successfully created edge types: [INTACTPHYSICALASSOCIATIONCompoundGene].\n",
      "Successfully created edge types: [INTACTDIRECTINTERACTIONCompoundGene].\n",
      "Successfully created edge types: [INTACTASSOCIATIONCompoundGene].\n",
      "Successfully created edge types: [bioarxCovid2_acc_host_geneDiseaseGene].\n",
      "Successfully created edge types: [bioarxCoronavirus_ass_host_geneDiseaseGene].\n",
      "Successfully created edge types: [HetionetDdGDiseaseGene].\n",
      "Successfully created edge types: [HetionetDaGDiseaseGene].\n",
      "Successfully created edge types: [HetionetDuGDiseaseGene].\n",
      "Successfully created edge types: [DGIDBINHIBITORGeneCompound].\n",
      "Successfully created edge types: [DGIDBANTAGONISTGeneCompound].\n",
      "Successfully created edge types: [DGIDBOTHERGeneCompound].\n",
      "Successfully created edge types: [DGIDBAGONISTGeneCompound].\n",
      "Successfully created edge types: [DGIDBBINDERGeneCompound].\n",
      "Successfully created edge types: [DGIDBMODULATORGeneCompound].\n",
      "Successfully created edge types: [DGIDBBLOCKERGeneCompound].\n",
      "Successfully created edge types: [DGIDBCHANNELBLOCKERGeneCompound].\n",
      "Successfully created edge types: [DGIDBANTIBODYGeneCompound].\n",
      "Successfully created edge types: [DGIDBPOSITIVEALLOSTERICMODULATORGeneCompound].\n",
      "Successfully created edge types: [DGIDBALLOSTERICMODULATORGeneCompound].\n",
      "Successfully created edge types: [DGIDBACTIVATORGeneCompound].\n",
      "Successfully created edge types: [DGIDBPARTIALAGONISTGeneCompound].\n",
      "Successfully created edge types: [DRUGBANKxatcCompoundAtc].\n",
      "Successfully created edge types: [DRUGBANKddiinteractorinCompoundCompound].\n",
      "Successfully created edge types: [HetionetCrCCompoundCompound].\n",
      "Successfully created edge types: [DRUGBANKtreatsCompoundDisease].\n",
      "Successfully created edge types: [GNBRTCompoundDisease].\n",
      "Successfully created edge types: [GNBRCCompoundDisease].\n",
      "Successfully created edge types: [GNBRSaCompoundDisease].\n",
      "Successfully created edge types: [GNBRPaCompoundDisease].\n",
      "Successfully created edge types: [GNBRMpCompoundDisease].\n",
      "Successfully created edge types: [GNBRPrCompoundDisease].\n",
      "Successfully created edge types: [GNBRJCompoundDisease].\n",
      "Successfully created edge types: [HetionetCtDCompoundDisease].\n",
      "Successfully created edge types: [HetionetCpDCompoundDisease].\n",
      "Successfully created edge types: [GNBRLGeneDisease].\n",
      "Successfully created edge types: [GNBRUGeneDisease].\n",
      "Successfully created edge types: [GNBRYGeneDisease].\n",
      "Successfully created edge types: [GNBRJGeneDisease].\n",
      "Successfully created edge types: [GNBRTeGeneDisease].\n",
      "Successfully created edge types: [GNBRMdGeneDisease].\n",
      "Successfully created edge types: [GNBRGGeneDisease].\n",
      "Successfully created edge types: [GNBRDGeneDisease].\n",
      "Successfully created edge types: [GNBRXGeneDisease].\n",
      "Successfully created edge types: [GNBRUdGeneDisease].\n",
      "Successfully created edge types: [GNBRin_taxGeneTax].\n",
      "Successfully created edge types: [HetionetGpBPGeneBiologicalProcess].\n",
      "Successfully created edge types: [HetionetDpSDiseaseSymptom].\n",
      "Successfully created edge types: [HetionetDlADiseaseAnatomy].\n",
      "Successfully created edge types: [HetionetDrDDiseaseDisease].\n",
      "Successfully created edge types: [HetionetAdGAnatomyGene].\n",
      "Successfully created edge types: [HetionetAuGAnatomyGene].\n",
      "Successfully created edge types: [HetionetAeGAnatomyGene].\n",
      "Successfully created edge types: [HetionetGpMFGeneMolecularFunction].\n",
      "Successfully created edge types: [HetionetPCiCPharmacologicClassCompound].\n",
      "Successfully created edge types: [HetionetGpCCGeneCellularComponent].\n",
      "Successfully created edge types: [HetionetGpPWGenePathway].\n",
      "Successfully created edge types: [HetionetCcSECompoundSideEffect].\n"
     ]
    }
   ],
   "source": [
    "print(conn.gsql(\n",
    "\"\"\"\n",
    "use global\n",
    "CREATE VERTEX Gene (PRIMARY_ID Id STRING) With primary_id_as_attribute=\"true\"\n",
    "CREATE VERTEX Compound (PRIMARY_ID Id STRING) With primary_id_as_attribute=\"true\"\n",
    "CREATE VERTEX Disease (PRIMARY_ID Id STRING) With primary_id_as_attribute=\"true\"\n",
    "CREATE VERTEX Atc (PRIMARY_ID Id STRING) With primary_id_as_attribute=\"true\"\n",
    "CREATE VERTEX Tax (PRIMARY_ID Id STRING) With primary_id_as_attribute=\"true\"\n",
    "CREATE VERTEX BiologicalProcess (PRIMARY_ID Id STRING) With primary_id_as_attribute=\"true\"\n",
    "CREATE VERTEX Symptom (PRIMARY_ID Id STRING) With primary_id_as_attribute=\"true\"\n",
    "CREATE VERTEX Anatomy (PRIMARY_ID Id STRING) With primary_id_as_attribute=\"true\"\n",
    "CREATE VERTEX MolecularFunction (PRIMARY_ID Id STRING) With primary_id_as_attribute=\"true\"\n",
    "CREATE VERTEX PharmacologicClass (PRIMARY_ID Id STRING) With primary_id_as_attribute=\"true\"\n",
    "CREATE VERTEX CellularComponent (PRIMARY_ID Id STRING) With primary_id_as_attribute=\"true\"\n",
    "CREATE VERTEX Pathway (PRIMARY_ID Id STRING) With primary_id_as_attribute=\"true\"\n",
    "CREATE VERTEX SideEffect (PRIMARY_ID Id STRING) With primary_id_as_attribute=\"true\"\n",
    "CREATE DIRECTED EDGE bioarxHumGenHumGenGeneGene (FROM Gene, TO Gene)\n",
    "CREATE DIRECTED EDGE bioarxVirGenHumGenGeneGene (FROM Gene, TO Gene)\n",
    "CREATE DIRECTED EDGE GNBRVGeneGene (FROM Gene, TO Gene)\n",
    "CREATE DIRECTED EDGE GNBRQGeneGene (FROM Gene, TO Gene)\n",
    "CREATE DIRECTED EDGE GNBRRgGeneGene (FROM Gene, TO Gene)\n",
    "CREATE DIRECTED EDGE GNBRBGeneGene (FROM Gene, TO Gene)\n",
    "CREATE DIRECTED EDGE GNBRIGeneGene (FROM Gene, TO Gene)\n",
    "CREATE DIRECTED EDGE GNBREGeneGene (FROM Gene, TO Gene)\n",
    "CREATE DIRECTED EDGE GNBRHGeneGene (FROM Gene, TO Gene)\n",
    "CREATE DIRECTED EDGE GNBRWGeneGene (FROM Gene, TO Gene)\n",
    "CREATE DIRECTED EDGE HetionetGiGGeneGene (FROM Gene, TO Gene)\n",
    "CREATE DIRECTED EDGE HetionetGcGGeneGene (FROM Gene, TO Gene)\n",
    "CREATE DIRECTED EDGE HetionetGrGGeneGene (FROM Gene, TO Gene)\n",
    "CREATE DIRECTED EDGE INTACTASSOCIATIONGeneGene (FROM Gene, TO Gene)\n",
    "CREATE DIRECTED EDGE INTACTPHYSICALASSOCIATIONGeneGene (FROM Gene, TO Gene)\n",
    "CREATE DIRECTED EDGE INTACTCOLOCALIZATIONGeneGene (FROM Gene, TO Gene)\n",
    "CREATE DIRECTED EDGE INTACTDEPHOSPHORYLATIONREACTIONGeneGene (FROM Gene, TO Gene)\n",
    "CREATE DIRECTED EDGE INTACTCLEAVAGEREACTIONGeneGene (FROM Gene, TO Gene)\n",
    "CREATE DIRECTED EDGE INTACTDIRECTINTERACTIONGeneGene (FROM Gene, TO Gene)\n",
    "CREATE DIRECTED EDGE INTACTPHOSPHORYLATIONREACTIONGeneGene (FROM Gene, TO Gene)\n",
    "CREATE DIRECTED EDGE INTACTADPRIBOSYLATIONREACTIONGeneGene (FROM Gene, TO Gene)\n",
    "CREATE DIRECTED EDGE INTACTUBIQUITINATIONREACTIONGeneGene (FROM Gene, TO Gene)\n",
    "CREATE DIRECTED EDGE INTACTPROTEINCLEAVAGEGeneGene (FROM Gene, TO Gene)\n",
    "CREATE DIRECTED EDGE STRINGREACTIONGeneGene (FROM Gene, TO Gene)\n",
    "CREATE DIRECTED EDGE STRINGCATALYSISGeneGene (FROM Gene, TO Gene)\n",
    "CREATE DIRECTED EDGE STRINGACTIVATIONGeneGene (FROM Gene, TO Gene)\n",
    "CREATE DIRECTED EDGE STRINGINHIBITIONGeneGene (FROM Gene, TO Gene)\n",
    "CREATE DIRECTED EDGE STRINGOTHERGeneGene (FROM Gene, TO Gene)\n",
    "CREATE DIRECTED EDGE STRINGBINDINGGeneGene (FROM Gene, TO Gene)\n",
    "CREATE DIRECTED EDGE STRINGPTMODGeneGene (FROM Gene, TO Gene)\n",
    "CREATE DIRECTED EDGE STRINGEXPRESSIONGeneGene (FROM Gene, TO Gene)\n",
    "CREATE DIRECTED EDGE bioarxDrugVirGenCompoundGene (FROM Compound, TO Gene)\n",
    "CREATE DIRECTED EDGE bioarxDrugHumGenCompoundGene (FROM Compound, TO Gene)\n",
    "CREATE DIRECTED EDGE DRUGBANKtargetCompoundGene (FROM Compound, TO Gene)\n",
    "CREATE DIRECTED EDGE DRUGBANKenzymeCompoundGene (FROM Compound, TO Gene)\n",
    "CREATE DIRECTED EDGE DRUGBANKcarrierCompoundGene (FROM Compound, TO Gene)\n",
    "CREATE DIRECTED EDGE GNBRECompoundGene (FROM Compound, TO Gene)\n",
    "CREATE DIRECTED EDGE GNBRACompoundGene (FROM Compound, TO Gene)\n",
    "CREATE DIRECTED EDGE GNBRNCompoundGene (FROM Compound, TO Gene)\n",
    "CREATE DIRECTED EDGE GNBRKCompoundGene (FROM Compound, TO Gene)\n",
    "CREATE DIRECTED EDGE GNBRBCompoundGene (FROM Compound, TO Gene)\n",
    "CREATE DIRECTED EDGE GNBROCompoundGene (FROM Compound, TO Gene)\n",
    "CREATE DIRECTED EDGE GNBRZCompoundGene (FROM Compound, TO Gene)\n",
    "CREATE DIRECTED EDGE HetionetCbGCompoundGene (FROM Compound, TO Gene)\n",
    "CREATE DIRECTED EDGE HetionetCuGCompoundGene (FROM Compound, TO Gene)\n",
    "CREATE DIRECTED EDGE HetionetCdGCompoundGene (FROM Compound, TO Gene)\n",
    "CREATE DIRECTED EDGE INTACTPHYSICALASSOCIATIONCompoundGene (FROM Compound, TO Gene)\n",
    "CREATE DIRECTED EDGE INTACTDIRECTINTERACTIONCompoundGene (FROM Compound, TO Gene)\n",
    "CREATE DIRECTED EDGE INTACTASSOCIATIONCompoundGene (FROM Compound, TO Gene)\n",
    "CREATE DIRECTED EDGE bioarxCovid2_acc_host_geneDiseaseGene (FROM Disease, TO Gene)\n",
    "CREATE DIRECTED EDGE bioarxCoronavirus_ass_host_geneDiseaseGene (FROM Disease, TO Gene)\n",
    "CREATE DIRECTED EDGE HetionetDdGDiseaseGene (FROM Disease, TO Gene)\n",
    "CREATE DIRECTED EDGE HetionetDaGDiseaseGene (FROM Disease, TO Gene)\n",
    "CREATE DIRECTED EDGE HetionetDuGDiseaseGene (FROM Disease, TO Gene)\n",
    "CREATE DIRECTED EDGE DGIDBINHIBITORGeneCompound (FROM Gene, TO Compound)\n",
    "CREATE DIRECTED EDGE DGIDBANTAGONISTGeneCompound (FROM Gene, TO Compound)\n",
    "CREATE DIRECTED EDGE DGIDBOTHERGeneCompound (FROM Gene, TO Compound)\n",
    "CREATE DIRECTED EDGE DGIDBAGONISTGeneCompound (FROM Gene, TO Compound)\n",
    "CREATE DIRECTED EDGE DGIDBBINDERGeneCompound (FROM Gene, TO Compound)\n",
    "CREATE DIRECTED EDGE DGIDBMODULATORGeneCompound (FROM Gene, TO Compound)\n",
    "CREATE DIRECTED EDGE DGIDBBLOCKERGeneCompound (FROM Gene, TO Compound)\n",
    "CREATE DIRECTED EDGE DGIDBCHANNELBLOCKERGeneCompound (FROM Gene, TO Compound)\n",
    "CREATE DIRECTED EDGE DGIDBANTIBODYGeneCompound (FROM Gene, TO Compound)\n",
    "CREATE DIRECTED EDGE DGIDBPOSITIVEALLOSTERICMODULATORGeneCompound (FROM Gene, TO Compound)\n",
    "CREATE DIRECTED EDGE DGIDBALLOSTERICMODULATORGeneCompound (FROM Gene, TO Compound)\n",
    "CREATE DIRECTED EDGE DGIDBACTIVATORGeneCompound (FROM Gene, TO Compound)\n",
    "CREATE DIRECTED EDGE DGIDBPARTIALAGONISTGeneCompound (FROM Gene, TO Compound)\n",
    "CREATE DIRECTED EDGE DRUGBANKxatcCompoundAtc (FROM Compound, TO Atc)\n",
    "CREATE DIRECTED EDGE DRUGBANKddiinteractorinCompoundCompound (FROM Compound, TO Compound)\n",
    "CREATE DIRECTED EDGE HetionetCrCCompoundCompound (FROM Compound, TO Compound)\n",
    "CREATE DIRECTED EDGE DRUGBANKtreatsCompoundDisease (FROM Compound, TO Disease)\n",
    "CREATE DIRECTED EDGE GNBRTCompoundDisease (FROM Compound, TO Disease)\n",
    "CREATE DIRECTED EDGE GNBRCCompoundDisease (FROM Compound, TO Disease)\n",
    "CREATE DIRECTED EDGE GNBRSaCompoundDisease (FROM Compound, TO Disease)\n",
    "CREATE DIRECTED EDGE GNBRPaCompoundDisease (FROM Compound, TO Disease)\n",
    "CREATE DIRECTED EDGE GNBRMpCompoundDisease (FROM Compound, TO Disease)\n",
    "CREATE DIRECTED EDGE GNBRPrCompoundDisease (FROM Compound, TO Disease)\n",
    "CREATE DIRECTED EDGE GNBRJCompoundDisease (FROM Compound, TO Disease)\n",
    "CREATE DIRECTED EDGE HetionetCtDCompoundDisease (FROM Compound, TO Disease)\n",
    "CREATE DIRECTED EDGE HetionetCpDCompoundDisease (FROM Compound, TO Disease)\n",
    "CREATE DIRECTED EDGE GNBRLGeneDisease (FROM Gene, TO Disease)\n",
    "CREATE DIRECTED EDGE GNBRUGeneDisease (FROM Gene, TO Disease)\n",
    "CREATE DIRECTED EDGE GNBRYGeneDisease (FROM Gene, TO Disease)\n",
    "CREATE DIRECTED EDGE GNBRJGeneDisease (FROM Gene, TO Disease)\n",
    "CREATE DIRECTED EDGE GNBRTeGeneDisease (FROM Gene, TO Disease)\n",
    "CREATE DIRECTED EDGE GNBRMdGeneDisease (FROM Gene, TO Disease)\n",
    "CREATE DIRECTED EDGE GNBRGGeneDisease (FROM Gene, TO Disease)\n",
    "CREATE DIRECTED EDGE GNBRDGeneDisease (FROM Gene, TO Disease)\n",
    "CREATE DIRECTED EDGE GNBRXGeneDisease (FROM Gene, TO Disease)\n",
    "CREATE DIRECTED EDGE GNBRUdGeneDisease (FROM Gene, TO Disease)\n",
    "CREATE DIRECTED EDGE GNBRin_taxGeneTax (FROM Gene, TO Tax)\n",
    "CREATE DIRECTED EDGE HetionetGpBPGeneBiologicalProcess (FROM Gene, TO BiologicalProcess)\n",
    "CREATE DIRECTED EDGE HetionetDpSDiseaseSymptom (FROM Disease, TO Symptom)\n",
    "CREATE DIRECTED EDGE HetionetDlADiseaseAnatomy (FROM Disease, TO Anatomy)\n",
    "CREATE DIRECTED EDGE HetionetDrDDiseaseDisease (FROM Disease, TO Disease)\n",
    "CREATE DIRECTED EDGE HetionetAdGAnatomyGene (FROM Anatomy, TO Gene)\n",
    "CREATE DIRECTED EDGE HetionetAuGAnatomyGene (FROM Anatomy, TO Gene)\n",
    "CREATE DIRECTED EDGE HetionetAeGAnatomyGene (FROM Anatomy, TO Gene)\n",
    "CREATE DIRECTED EDGE HetionetGpMFGeneMolecularFunction (FROM Gene, TO MolecularFunction)\n",
    "CREATE DIRECTED EDGE HetionetPCiCPharmacologicClassCompound (FROM PharmacologicClass, TO Compound)\n",
    "CREATE DIRECTED EDGE HetionetGpCCGeneCellularComponent (FROM Gene, TO CellularComponent)\n",
    "CREATE DIRECTED EDGE HetionetGpPWGenePathway (FROM Gene, TO Pathway)\n",
    "CREATE DIRECTED EDGE HetionetCcSECompoundSideEffect (FROM Compound, TO SideEffect)\n",
    "\"\"\"\n",
    "\n",
    "))\n"
   ]
  },
  {
   "cell_type": "markdown",
   "id": "19c96e14",
   "metadata": {},
   "source": [
    "## Data"
   ]
  },
  {
   "cell_type": "markdown",
   "id": "c47ecb2e",
   "metadata": {},
   "source": [
    "Going full-scale leads to timeout and things, of course.\n",
    "So, for demo purposes we sample from each and add some in this way. Since we use an upsert this will not duplicate any entity (the id is a primary key)."
   ]
  },
  {
   "cell_type": "code",
   "execution_count": 72,
   "id": "e27c3d93",
   "metadata": {
    "collapsed": true
   },
   "outputs": [
    {
     "ename": "KeyboardInterrupt",
     "evalue": "",
     "output_type": "error",
     "traceback": [
      "\u001B[0;31m---------------------------------------------------------------------------\u001B[0m",
      "\u001B[0;31mKeyboardInterrupt\u001B[0m                         Traceback (most recent call last)",
      "\u001B[0;32m/var/folders/w7/yfk0v8f53ks5wsq78q4rglvh0000gn/T/ipykernel_80489/3321860252.py\u001B[0m in \u001B[0;36m<module>\u001B[0;34m\u001B[0m\n\u001B[1;32m      2\u001B[0m     \u001B[0msample\u001B[0m \u001B[0;34m=\u001B[0m \u001B[0mnp\u001B[0m\u001B[0;34m.\u001B[0m\u001B[0mrandom\u001B[0m\u001B[0;34m.\u001B[0m\u001B[0mchoice\u001B[0m\u001B[0;34m(\u001B[0m\u001B[0mnp\u001B[0m\u001B[0;34m.\u001B[0m\u001B[0marray\u001B[0m\u001B[0;34m(\u001B[0m\u001B[0mlist\u001B[0m\u001B[0;34m(\u001B[0m\u001B[0mentity_dic\u001B[0m\u001B[0;34m[\u001B[0m\u001B[0mentity_type\u001B[0m\u001B[0;34m]\u001B[0m\u001B[0;34m.\u001B[0m\u001B[0mvalues\u001B[0m\u001B[0;34m(\u001B[0m\u001B[0;34m)\u001B[0m\u001B[0;34m)\u001B[0m\u001B[0;34m)\u001B[0m\u001B[0;34m,\u001B[0m\u001B[0;36m2000\u001B[0m\u001B[0;34m)\u001B[0m\u001B[0;34m\u001B[0m\u001B[0;34m\u001B[0m\u001B[0m\n\u001B[1;32m      3\u001B[0m     \u001B[0;32mfor\u001B[0m \u001B[0mid\u001B[0m \u001B[0;32min\u001B[0m \u001B[0msample\u001B[0m\u001B[0;34m:\u001B[0m\u001B[0;34m\u001B[0m\u001B[0;34m\u001B[0m\u001B[0m\n\u001B[0;32m----> 4\u001B[0;31m         \u001B[0mconn\u001B[0m\u001B[0;34m.\u001B[0m\u001B[0mupsertVertex\u001B[0m\u001B[0;34m(\u001B[0m\u001B[0mentity_type\u001B[0m\u001B[0;34m,\u001B[0m \u001B[0mid\u001B[0m \u001B[0;34m,\u001B[0m\u001B[0;34m{\u001B[0m\u001B[0;34m}\u001B[0m\u001B[0;34m)\u001B[0m\u001B[0;34m\u001B[0m\u001B[0;34m\u001B[0m\u001B[0m\n\u001B[0m",
      "\u001B[0;32m~/conda/envs/dgl/lib/python3.8/site-packages/pyTigerGraph/pyTigerGraph.py\u001B[0m in \u001B[0;36mupsertVertex\u001B[0;34m(self, vertexType, vertexId, attributes)\u001B[0m\n\u001B[1;32m    388\u001B[0m         \u001B[0mvals\u001B[0m \u001B[0;34m=\u001B[0m \u001B[0mself\u001B[0m\u001B[0;34m.\u001B[0m\u001B[0m_upsertAttrs\u001B[0m\u001B[0;34m(\u001B[0m\u001B[0mattributes\u001B[0m\u001B[0;34m)\u001B[0m\u001B[0;34m\u001B[0m\u001B[0;34m\u001B[0m\u001B[0m\n\u001B[1;32m    389\u001B[0m         \u001B[0mdata\u001B[0m \u001B[0;34m=\u001B[0m \u001B[0mjson\u001B[0m\u001B[0;34m.\u001B[0m\u001B[0mdumps\u001B[0m\u001B[0;34m(\u001B[0m\u001B[0;34m{\u001B[0m\u001B[0;34m\"vertices\"\u001B[0m\u001B[0;34m:\u001B[0m \u001B[0;34m{\u001B[0m\u001B[0mvertexType\u001B[0m\u001B[0;34m:\u001B[0m \u001B[0;34m{\u001B[0m\u001B[0mvertexId\u001B[0m\u001B[0;34m:\u001B[0m \u001B[0mvals\u001B[0m\u001B[0;34m}\u001B[0m\u001B[0;34m}\u001B[0m\u001B[0;34m}\u001B[0m\u001B[0;34m)\u001B[0m\u001B[0;34m\u001B[0m\u001B[0;34m\u001B[0m\u001B[0m\n\u001B[0;32m--> 390\u001B[0;31m         \u001B[0;32mreturn\u001B[0m \u001B[0mself\u001B[0m\u001B[0;34m.\u001B[0m\u001B[0m_post\u001B[0m\u001B[0;34m(\u001B[0m\u001B[0mself\u001B[0m\u001B[0;34m.\u001B[0m\u001B[0mrestppUrl\u001B[0m \u001B[0;34m+\u001B[0m \u001B[0;34m\"/graph/\"\u001B[0m \u001B[0;34m+\u001B[0m \u001B[0mself\u001B[0m\u001B[0;34m.\u001B[0m\u001B[0mgraphname\u001B[0m\u001B[0;34m,\u001B[0m \u001B[0mdata\u001B[0m\u001B[0;34m=\u001B[0m\u001B[0mdata\u001B[0m\u001B[0;34m)\u001B[0m\u001B[0;34m[\u001B[0m\u001B[0;36m0\u001B[0m\u001B[0;34m]\u001B[0m\u001B[0;34m[\u001B[0m\u001B[0;34m\"accepted_vertices\"\u001B[0m\u001B[0;34m]\u001B[0m\u001B[0;34m\u001B[0m\u001B[0;34m\u001B[0m\u001B[0m\n\u001B[0m\u001B[1;32m    391\u001B[0m \u001B[0;34m\u001B[0m\u001B[0m\n\u001B[1;32m    392\u001B[0m     \u001B[0;32mdef\u001B[0m \u001B[0mupsertVertices\u001B[0m\u001B[0;34m(\u001B[0m\u001B[0mself\u001B[0m\u001B[0;34m,\u001B[0m \u001B[0mvertexType\u001B[0m\u001B[0;34m,\u001B[0m \u001B[0mvertices\u001B[0m\u001B[0;34m)\u001B[0m\u001B[0;34m:\u001B[0m\u001B[0;34m\u001B[0m\u001B[0;34m\u001B[0m\u001B[0m\n",
      "\u001B[0;32m~/conda/envs/dgl/lib/python3.8/site-packages/pyTigerGraph/pyTigerGraph.py\u001B[0m in \u001B[0;36m_post\u001B[0;34m(self, url, authMode, headers, data, resKey, skipCheck, params)\u001B[0m\n\u001B[1;32m    220\u001B[0m         \u001B[0mFor\u001B[0m \u001B[0margument\u001B[0m \u001B[0mdetails\u001B[0m\u001B[0;34m,\u001B[0m \u001B[0msee\u001B[0m\u001B[0;31m \u001B[0m\u001B[0;31m`\u001B[0m\u001B[0m_req\u001B[0m\u001B[0;31m`\u001B[0m\u001B[0;34m.\u001B[0m\u001B[0;34m\u001B[0m\u001B[0;34m\u001B[0m\u001B[0m\n\u001B[1;32m    221\u001B[0m         \"\"\"\n\u001B[0;32m--> 222\u001B[0;31m         \u001B[0;32mreturn\u001B[0m \u001B[0mself\u001B[0m\u001B[0;34m.\u001B[0m\u001B[0m_req\u001B[0m\u001B[0;34m(\u001B[0m\u001B[0;34m\"POST\"\u001B[0m\u001B[0;34m,\u001B[0m \u001B[0murl\u001B[0m\u001B[0;34m,\u001B[0m \u001B[0mauthMode\u001B[0m\u001B[0;34m,\u001B[0m \u001B[0mheaders\u001B[0m\u001B[0;34m,\u001B[0m \u001B[0mdata\u001B[0m\u001B[0;34m,\u001B[0m \u001B[0mresKey\u001B[0m\u001B[0;34m,\u001B[0m \u001B[0mskipCheck\u001B[0m\u001B[0;34m,\u001B[0m \u001B[0mparams\u001B[0m\u001B[0;34m)\u001B[0m\u001B[0;34m\u001B[0m\u001B[0;34m\u001B[0m\u001B[0m\n\u001B[0m\u001B[1;32m    223\u001B[0m \u001B[0;34m\u001B[0m\u001B[0m\n\u001B[1;32m    224\u001B[0m     \u001B[0;32mdef\u001B[0m \u001B[0m_delete\u001B[0m\u001B[0;34m(\u001B[0m\u001B[0mself\u001B[0m\u001B[0;34m,\u001B[0m \u001B[0murl\u001B[0m\u001B[0;34m,\u001B[0m \u001B[0mauthMode\u001B[0m\u001B[0;34m=\u001B[0m\u001B[0;34m\"token\"\u001B[0m\u001B[0;34m)\u001B[0m\u001B[0;34m:\u001B[0m\u001B[0;34m\u001B[0m\u001B[0;34m\u001B[0m\u001B[0m\n",
      "\u001B[0;32m~/conda/envs/dgl/lib/python3.8/site-packages/pyTigerGraph/pyTigerGraph.py\u001B[0m in \u001B[0;36m_req\u001B[0;34m(self, method, url, authMode, headers, data, resKey, skipCheck, params)\u001B[0m\n\u001B[1;32m    189\u001B[0m \u001B[0;34m\u001B[0m\u001B[0m\n\u001B[1;32m    190\u001B[0m         \u001B[0;32mif\u001B[0m \u001B[0mself\u001B[0m\u001B[0;34m.\u001B[0m\u001B[0museCert\u001B[0m \u001B[0;32mis\u001B[0m \u001B[0;32mTrue\u001B[0m \u001B[0;32mor\u001B[0m \u001B[0mself\u001B[0m\u001B[0;34m.\u001B[0m\u001B[0mcertPath\u001B[0m \u001B[0;32mis\u001B[0m \u001B[0;32mnot\u001B[0m \u001B[0;32mNone\u001B[0m\u001B[0;34m:\u001B[0m\u001B[0;34m\u001B[0m\u001B[0;34m\u001B[0m\u001B[0m\n\u001B[0;32m--> 191\u001B[0;31m             \u001B[0mres\u001B[0m \u001B[0;34m=\u001B[0m \u001B[0mrequests\u001B[0m\u001B[0;34m.\u001B[0m\u001B[0mrequest\u001B[0m\u001B[0;34m(\u001B[0m\u001B[0mmethod\u001B[0m\u001B[0;34m,\u001B[0m \u001B[0murl\u001B[0m\u001B[0;34m,\u001B[0m  \u001B[0mheaders\u001B[0m\u001B[0;34m=\u001B[0m\u001B[0m_headers\u001B[0m\u001B[0;34m,\u001B[0m \u001B[0mdata\u001B[0m\u001B[0;34m=\u001B[0m\u001B[0m_data\u001B[0m\u001B[0;34m,\u001B[0m \u001B[0mparams\u001B[0m\u001B[0;34m=\u001B[0m\u001B[0mparams\u001B[0m\u001B[0;34m,\u001B[0m \u001B[0mverify\u001B[0m\u001B[0;34m=\u001B[0m\u001B[0;32mFalse\u001B[0m\u001B[0;34m)\u001B[0m \u001B[0;31m# auth=_auth,\u001B[0m\u001B[0;34m\u001B[0m\u001B[0;34m\u001B[0m\u001B[0m\n\u001B[0m\u001B[1;32m    192\u001B[0m         \u001B[0;32melse\u001B[0m\u001B[0;34m:\u001B[0m\u001B[0;34m\u001B[0m\u001B[0;34m\u001B[0m\u001B[0m\n\u001B[1;32m    193\u001B[0m             \u001B[0mres\u001B[0m \u001B[0;34m=\u001B[0m \u001B[0mrequests\u001B[0m\u001B[0;34m.\u001B[0m\u001B[0mrequest\u001B[0m\u001B[0;34m(\u001B[0m\u001B[0mmethod\u001B[0m\u001B[0;34m,\u001B[0m \u001B[0murl\u001B[0m\u001B[0;34m,\u001B[0m \u001B[0mheaders\u001B[0m\u001B[0;34m=\u001B[0m\u001B[0m_headers\u001B[0m\u001B[0;34m,\u001B[0m \u001B[0mdata\u001B[0m\u001B[0;34m=\u001B[0m\u001B[0m_data\u001B[0m\u001B[0;34m,\u001B[0m \u001B[0mparams\u001B[0m\u001B[0;34m=\u001B[0m\u001B[0mparams\u001B[0m\u001B[0;34m)\u001B[0m \u001B[0;31m# , auth=_auth\u001B[0m\u001B[0;34m\u001B[0m\u001B[0;34m\u001B[0m\u001B[0m\n",
      "\u001B[0;32m~/conda/envs/dgl/lib/python3.8/site-packages/requests/api.py\u001B[0m in \u001B[0;36mrequest\u001B[0;34m(method, url, **kwargs)\u001B[0m\n\u001B[1;32m     59\u001B[0m     \u001B[0;31m# cases, and look like a memory leak in others.\u001B[0m\u001B[0;34m\u001B[0m\u001B[0;34m\u001B[0m\u001B[0;34m\u001B[0m\u001B[0m\n\u001B[1;32m     60\u001B[0m     \u001B[0;32mwith\u001B[0m \u001B[0msessions\u001B[0m\u001B[0;34m.\u001B[0m\u001B[0mSession\u001B[0m\u001B[0;34m(\u001B[0m\u001B[0;34m)\u001B[0m \u001B[0;32mas\u001B[0m \u001B[0msession\u001B[0m\u001B[0;34m:\u001B[0m\u001B[0;34m\u001B[0m\u001B[0;34m\u001B[0m\u001B[0m\n\u001B[0;32m---> 61\u001B[0;31m         \u001B[0;32mreturn\u001B[0m \u001B[0msession\u001B[0m\u001B[0;34m.\u001B[0m\u001B[0mrequest\u001B[0m\u001B[0;34m(\u001B[0m\u001B[0mmethod\u001B[0m\u001B[0;34m=\u001B[0m\u001B[0mmethod\u001B[0m\u001B[0;34m,\u001B[0m \u001B[0murl\u001B[0m\u001B[0;34m=\u001B[0m\u001B[0murl\u001B[0m\u001B[0;34m,\u001B[0m \u001B[0;34m**\u001B[0m\u001B[0mkwargs\u001B[0m\u001B[0;34m)\u001B[0m\u001B[0;34m\u001B[0m\u001B[0;34m\u001B[0m\u001B[0m\n\u001B[0m\u001B[1;32m     62\u001B[0m \u001B[0;34m\u001B[0m\u001B[0m\n\u001B[1;32m     63\u001B[0m \u001B[0;34m\u001B[0m\u001B[0m\n",
      "\u001B[0;32m~/conda/envs/dgl/lib/python3.8/site-packages/requests/sessions.py\u001B[0m in \u001B[0;36mrequest\u001B[0;34m(self, method, url, params, data, headers, cookies, files, auth, timeout, allow_redirects, proxies, hooks, stream, verify, cert, json)\u001B[0m\n\u001B[1;32m    527\u001B[0m         }\n\u001B[1;32m    528\u001B[0m         \u001B[0msend_kwargs\u001B[0m\u001B[0;34m.\u001B[0m\u001B[0mupdate\u001B[0m\u001B[0;34m(\u001B[0m\u001B[0msettings\u001B[0m\u001B[0;34m)\u001B[0m\u001B[0;34m\u001B[0m\u001B[0;34m\u001B[0m\u001B[0m\n\u001B[0;32m--> 529\u001B[0;31m         \u001B[0mresp\u001B[0m \u001B[0;34m=\u001B[0m \u001B[0mself\u001B[0m\u001B[0;34m.\u001B[0m\u001B[0msend\u001B[0m\u001B[0;34m(\u001B[0m\u001B[0mprep\u001B[0m\u001B[0;34m,\u001B[0m \u001B[0;34m**\u001B[0m\u001B[0msend_kwargs\u001B[0m\u001B[0;34m)\u001B[0m\u001B[0;34m\u001B[0m\u001B[0;34m\u001B[0m\u001B[0m\n\u001B[0m\u001B[1;32m    530\u001B[0m \u001B[0;34m\u001B[0m\u001B[0m\n\u001B[1;32m    531\u001B[0m         \u001B[0;32mreturn\u001B[0m \u001B[0mresp\u001B[0m\u001B[0;34m\u001B[0m\u001B[0;34m\u001B[0m\u001B[0m\n",
      "\u001B[0;32m~/conda/envs/dgl/lib/python3.8/site-packages/requests/sessions.py\u001B[0m in \u001B[0;36msend\u001B[0;34m(self, request, **kwargs)\u001B[0m\n\u001B[1;32m    643\u001B[0m \u001B[0;34m\u001B[0m\u001B[0m\n\u001B[1;32m    644\u001B[0m         \u001B[0;31m# Send the request\u001B[0m\u001B[0;34m\u001B[0m\u001B[0;34m\u001B[0m\u001B[0;34m\u001B[0m\u001B[0m\n\u001B[0;32m--> 645\u001B[0;31m         \u001B[0mr\u001B[0m \u001B[0;34m=\u001B[0m \u001B[0madapter\u001B[0m\u001B[0;34m.\u001B[0m\u001B[0msend\u001B[0m\u001B[0;34m(\u001B[0m\u001B[0mrequest\u001B[0m\u001B[0;34m,\u001B[0m \u001B[0;34m**\u001B[0m\u001B[0mkwargs\u001B[0m\u001B[0;34m)\u001B[0m\u001B[0;34m\u001B[0m\u001B[0;34m\u001B[0m\u001B[0m\n\u001B[0m\u001B[1;32m    646\u001B[0m \u001B[0;34m\u001B[0m\u001B[0m\n\u001B[1;32m    647\u001B[0m         \u001B[0;31m# Total elapsed time of the request (approximately)\u001B[0m\u001B[0;34m\u001B[0m\u001B[0;34m\u001B[0m\u001B[0;34m\u001B[0m\u001B[0m\n",
      "\u001B[0;32m~/conda/envs/dgl/lib/python3.8/site-packages/requests/adapters.py\u001B[0m in \u001B[0;36msend\u001B[0;34m(self, request, stream, timeout, verify, cert, proxies)\u001B[0m\n\u001B[1;32m    438\u001B[0m         \u001B[0;32mtry\u001B[0m\u001B[0;34m:\u001B[0m\u001B[0;34m\u001B[0m\u001B[0;34m\u001B[0m\u001B[0m\n\u001B[1;32m    439\u001B[0m             \u001B[0;32mif\u001B[0m \u001B[0;32mnot\u001B[0m \u001B[0mchunked\u001B[0m\u001B[0;34m:\u001B[0m\u001B[0;34m\u001B[0m\u001B[0;34m\u001B[0m\u001B[0m\n\u001B[0;32m--> 440\u001B[0;31m                 resp = conn.urlopen(\n\u001B[0m\u001B[1;32m    441\u001B[0m                     \u001B[0mmethod\u001B[0m\u001B[0;34m=\u001B[0m\u001B[0mrequest\u001B[0m\u001B[0;34m.\u001B[0m\u001B[0mmethod\u001B[0m\u001B[0;34m,\u001B[0m\u001B[0;34m\u001B[0m\u001B[0;34m\u001B[0m\u001B[0m\n\u001B[1;32m    442\u001B[0m                     \u001B[0murl\u001B[0m\u001B[0;34m=\u001B[0m\u001B[0murl\u001B[0m\u001B[0;34m,\u001B[0m\u001B[0;34m\u001B[0m\u001B[0;34m\u001B[0m\u001B[0m\n",
      "\u001B[0;32m~/conda/envs/dgl/lib/python3.8/site-packages/urllib3/connectionpool.py\u001B[0m in \u001B[0;36murlopen\u001B[0;34m(self, method, url, body, headers, retries, redirect, assert_same_host, timeout, pool_timeout, release_conn, chunked, body_pos, **response_kw)\u001B[0m\n\u001B[1;32m    701\u001B[0m \u001B[0;34m\u001B[0m\u001B[0m\n\u001B[1;32m    702\u001B[0m             \u001B[0;31m# Make the request on the httplib connection object.\u001B[0m\u001B[0;34m\u001B[0m\u001B[0;34m\u001B[0m\u001B[0;34m\u001B[0m\u001B[0m\n\u001B[0;32m--> 703\u001B[0;31m             httplib_response = self._make_request(\n\u001B[0m\u001B[1;32m    704\u001B[0m                 \u001B[0mconn\u001B[0m\u001B[0;34m,\u001B[0m\u001B[0;34m\u001B[0m\u001B[0;34m\u001B[0m\u001B[0m\n\u001B[1;32m    705\u001B[0m                 \u001B[0mmethod\u001B[0m\u001B[0;34m,\u001B[0m\u001B[0;34m\u001B[0m\u001B[0;34m\u001B[0m\u001B[0m\n",
      "\u001B[0;32m~/conda/envs/dgl/lib/python3.8/site-packages/urllib3/connectionpool.py\u001B[0m in \u001B[0;36m_make_request\u001B[0;34m(self, conn, method, url, timeout, chunked, **httplib_request_kw)\u001B[0m\n\u001B[1;32m    447\u001B[0m                     \u001B[0;31m# Python 3 (including for exceptions like SystemExit).\u001B[0m\u001B[0;34m\u001B[0m\u001B[0;34m\u001B[0m\u001B[0;34m\u001B[0m\u001B[0m\n\u001B[1;32m    448\u001B[0m                     \u001B[0;31m# Otherwise it looks like a bug in the code.\u001B[0m\u001B[0;34m\u001B[0m\u001B[0;34m\u001B[0m\u001B[0;34m\u001B[0m\u001B[0m\n\u001B[0;32m--> 449\u001B[0;31m                     \u001B[0msix\u001B[0m\u001B[0;34m.\u001B[0m\u001B[0mraise_from\u001B[0m\u001B[0;34m(\u001B[0m\u001B[0me\u001B[0m\u001B[0;34m,\u001B[0m \u001B[0;32mNone\u001B[0m\u001B[0;34m)\u001B[0m\u001B[0;34m\u001B[0m\u001B[0;34m\u001B[0m\u001B[0m\n\u001B[0m\u001B[1;32m    450\u001B[0m         \u001B[0;32mexcept\u001B[0m \u001B[0;34m(\u001B[0m\u001B[0mSocketTimeout\u001B[0m\u001B[0;34m,\u001B[0m \u001B[0mBaseSSLError\u001B[0m\u001B[0;34m,\u001B[0m \u001B[0mSocketError\u001B[0m\u001B[0;34m)\u001B[0m \u001B[0;32mas\u001B[0m \u001B[0me\u001B[0m\u001B[0;34m:\u001B[0m\u001B[0;34m\u001B[0m\u001B[0;34m\u001B[0m\u001B[0m\n\u001B[1;32m    451\u001B[0m             \u001B[0mself\u001B[0m\u001B[0;34m.\u001B[0m\u001B[0m_raise_timeout\u001B[0m\u001B[0;34m(\u001B[0m\u001B[0merr\u001B[0m\u001B[0;34m=\u001B[0m\u001B[0me\u001B[0m\u001B[0;34m,\u001B[0m \u001B[0murl\u001B[0m\u001B[0;34m=\u001B[0m\u001B[0murl\u001B[0m\u001B[0;34m,\u001B[0m \u001B[0mtimeout_value\u001B[0m\u001B[0;34m=\u001B[0m\u001B[0mread_timeout\u001B[0m\u001B[0;34m)\u001B[0m\u001B[0;34m\u001B[0m\u001B[0;34m\u001B[0m\u001B[0m\n",
      "\u001B[0;32m~/conda/envs/dgl/lib/python3.8/site-packages/urllib3/packages/six.py\u001B[0m in \u001B[0;36mraise_from\u001B[0;34m(value, from_value)\u001B[0m\n",
      "\u001B[0;32m~/conda/envs/dgl/lib/python3.8/site-packages/urllib3/connectionpool.py\u001B[0m in \u001B[0;36m_make_request\u001B[0;34m(self, conn, method, url, timeout, chunked, **httplib_request_kw)\u001B[0m\n\u001B[1;32m    442\u001B[0m                 \u001B[0;31m# Python 3\u001B[0m\u001B[0;34m\u001B[0m\u001B[0;34m\u001B[0m\u001B[0;34m\u001B[0m\u001B[0m\n\u001B[1;32m    443\u001B[0m                 \u001B[0;32mtry\u001B[0m\u001B[0;34m:\u001B[0m\u001B[0;34m\u001B[0m\u001B[0;34m\u001B[0m\u001B[0m\n\u001B[0;32m--> 444\u001B[0;31m                     \u001B[0mhttplib_response\u001B[0m \u001B[0;34m=\u001B[0m \u001B[0mconn\u001B[0m\u001B[0;34m.\u001B[0m\u001B[0mgetresponse\u001B[0m\u001B[0;34m(\u001B[0m\u001B[0;34m)\u001B[0m\u001B[0;34m\u001B[0m\u001B[0;34m\u001B[0m\u001B[0m\n\u001B[0m\u001B[1;32m    445\u001B[0m                 \u001B[0;32mexcept\u001B[0m \u001B[0mBaseException\u001B[0m \u001B[0;32mas\u001B[0m \u001B[0me\u001B[0m\u001B[0;34m:\u001B[0m\u001B[0;34m\u001B[0m\u001B[0;34m\u001B[0m\u001B[0m\n\u001B[1;32m    446\u001B[0m                     \u001B[0;31m# Remove the TypeError from the exception chain in\u001B[0m\u001B[0;34m\u001B[0m\u001B[0;34m\u001B[0m\u001B[0;34m\u001B[0m\u001B[0m\n",
      "\u001B[0;32m~/conda/envs/dgl/lib/python3.8/http/client.py\u001B[0m in \u001B[0;36mgetresponse\u001B[0;34m(self)\u001B[0m\n\u001B[1;32m   1346\u001B[0m         \u001B[0;32mtry\u001B[0m\u001B[0;34m:\u001B[0m\u001B[0;34m\u001B[0m\u001B[0;34m\u001B[0m\u001B[0m\n\u001B[1;32m   1347\u001B[0m             \u001B[0;32mtry\u001B[0m\u001B[0;34m:\u001B[0m\u001B[0;34m\u001B[0m\u001B[0;34m\u001B[0m\u001B[0m\n\u001B[0;32m-> 1348\u001B[0;31m                 \u001B[0mresponse\u001B[0m\u001B[0;34m.\u001B[0m\u001B[0mbegin\u001B[0m\u001B[0;34m(\u001B[0m\u001B[0;34m)\u001B[0m\u001B[0;34m\u001B[0m\u001B[0;34m\u001B[0m\u001B[0m\n\u001B[0m\u001B[1;32m   1349\u001B[0m             \u001B[0;32mexcept\u001B[0m \u001B[0mConnectionError\u001B[0m\u001B[0;34m:\u001B[0m\u001B[0;34m\u001B[0m\u001B[0;34m\u001B[0m\u001B[0m\n\u001B[1;32m   1350\u001B[0m                 \u001B[0mself\u001B[0m\u001B[0;34m.\u001B[0m\u001B[0mclose\u001B[0m\u001B[0;34m(\u001B[0m\u001B[0;34m)\u001B[0m\u001B[0;34m\u001B[0m\u001B[0;34m\u001B[0m\u001B[0m\n",
      "\u001B[0;32m~/conda/envs/dgl/lib/python3.8/http/client.py\u001B[0m in \u001B[0;36mbegin\u001B[0;34m(self)\u001B[0m\n\u001B[1;32m    314\u001B[0m         \u001B[0;31m# read until we get a non-100 response\u001B[0m\u001B[0;34m\u001B[0m\u001B[0;34m\u001B[0m\u001B[0;34m\u001B[0m\u001B[0m\n\u001B[1;32m    315\u001B[0m         \u001B[0;32mwhile\u001B[0m \u001B[0;32mTrue\u001B[0m\u001B[0;34m:\u001B[0m\u001B[0;34m\u001B[0m\u001B[0;34m\u001B[0m\u001B[0m\n\u001B[0;32m--> 316\u001B[0;31m             \u001B[0mversion\u001B[0m\u001B[0;34m,\u001B[0m \u001B[0mstatus\u001B[0m\u001B[0;34m,\u001B[0m \u001B[0mreason\u001B[0m \u001B[0;34m=\u001B[0m \u001B[0mself\u001B[0m\u001B[0;34m.\u001B[0m\u001B[0m_read_status\u001B[0m\u001B[0;34m(\u001B[0m\u001B[0;34m)\u001B[0m\u001B[0;34m\u001B[0m\u001B[0;34m\u001B[0m\u001B[0m\n\u001B[0m\u001B[1;32m    317\u001B[0m             \u001B[0;32mif\u001B[0m \u001B[0mstatus\u001B[0m \u001B[0;34m!=\u001B[0m \u001B[0mCONTINUE\u001B[0m\u001B[0;34m:\u001B[0m\u001B[0;34m\u001B[0m\u001B[0;34m\u001B[0m\u001B[0m\n\u001B[1;32m    318\u001B[0m                 \u001B[0;32mbreak\u001B[0m\u001B[0;34m\u001B[0m\u001B[0;34m\u001B[0m\u001B[0m\n",
      "\u001B[0;32m~/conda/envs/dgl/lib/python3.8/http/client.py\u001B[0m in \u001B[0;36m_read_status\u001B[0;34m(self)\u001B[0m\n\u001B[1;32m    275\u001B[0m \u001B[0;34m\u001B[0m\u001B[0m\n\u001B[1;32m    276\u001B[0m     \u001B[0;32mdef\u001B[0m \u001B[0m_read_status\u001B[0m\u001B[0;34m(\u001B[0m\u001B[0mself\u001B[0m\u001B[0;34m)\u001B[0m\u001B[0;34m:\u001B[0m\u001B[0;34m\u001B[0m\u001B[0;34m\u001B[0m\u001B[0m\n\u001B[0;32m--> 277\u001B[0;31m         \u001B[0mline\u001B[0m \u001B[0;34m=\u001B[0m \u001B[0mstr\u001B[0m\u001B[0;34m(\u001B[0m\u001B[0mself\u001B[0m\u001B[0;34m.\u001B[0m\u001B[0mfp\u001B[0m\u001B[0;34m.\u001B[0m\u001B[0mreadline\u001B[0m\u001B[0;34m(\u001B[0m\u001B[0m_MAXLINE\u001B[0m \u001B[0;34m+\u001B[0m \u001B[0;36m1\u001B[0m\u001B[0;34m)\u001B[0m\u001B[0;34m,\u001B[0m \u001B[0;34m\"iso-8859-1\"\u001B[0m\u001B[0;34m)\u001B[0m\u001B[0;34m\u001B[0m\u001B[0;34m\u001B[0m\u001B[0m\n\u001B[0m\u001B[1;32m    278\u001B[0m         \u001B[0;32mif\u001B[0m \u001B[0mlen\u001B[0m\u001B[0;34m(\u001B[0m\u001B[0mline\u001B[0m\u001B[0;34m)\u001B[0m \u001B[0;34m>\u001B[0m \u001B[0m_MAXLINE\u001B[0m\u001B[0;34m:\u001B[0m\u001B[0;34m\u001B[0m\u001B[0;34m\u001B[0m\u001B[0m\n\u001B[1;32m    279\u001B[0m             \u001B[0;32mraise\u001B[0m \u001B[0mLineTooLong\u001B[0m\u001B[0;34m(\u001B[0m\u001B[0;34m\"status line\"\u001B[0m\u001B[0;34m)\u001B[0m\u001B[0;34m\u001B[0m\u001B[0;34m\u001B[0m\u001B[0m\n",
      "\u001B[0;32m~/conda/envs/dgl/lib/python3.8/socket.py\u001B[0m in \u001B[0;36mreadinto\u001B[0;34m(self, b)\u001B[0m\n\u001B[1;32m    667\u001B[0m         \u001B[0;32mwhile\u001B[0m \u001B[0;32mTrue\u001B[0m\u001B[0;34m:\u001B[0m\u001B[0;34m\u001B[0m\u001B[0;34m\u001B[0m\u001B[0m\n\u001B[1;32m    668\u001B[0m             \u001B[0;32mtry\u001B[0m\u001B[0;34m:\u001B[0m\u001B[0;34m\u001B[0m\u001B[0;34m\u001B[0m\u001B[0m\n\u001B[0;32m--> 669\u001B[0;31m                 \u001B[0;32mreturn\u001B[0m \u001B[0mself\u001B[0m\u001B[0;34m.\u001B[0m\u001B[0m_sock\u001B[0m\u001B[0;34m.\u001B[0m\u001B[0mrecv_into\u001B[0m\u001B[0;34m(\u001B[0m\u001B[0mb\u001B[0m\u001B[0;34m)\u001B[0m\u001B[0;34m\u001B[0m\u001B[0;34m\u001B[0m\u001B[0m\n\u001B[0m\u001B[1;32m    670\u001B[0m             \u001B[0;32mexcept\u001B[0m \u001B[0mtimeout\u001B[0m\u001B[0;34m:\u001B[0m\u001B[0;34m\u001B[0m\u001B[0;34m\u001B[0m\u001B[0m\n\u001B[1;32m    671\u001B[0m                 \u001B[0mself\u001B[0m\u001B[0;34m.\u001B[0m\u001B[0m_timeout_occurred\u001B[0m \u001B[0;34m=\u001B[0m \u001B[0;32mTrue\u001B[0m\u001B[0;34m\u001B[0m\u001B[0;34m\u001B[0m\u001B[0m\n",
      "\u001B[0;32m~/conda/envs/dgl/lib/python3.8/ssl.py\u001B[0m in \u001B[0;36mrecv_into\u001B[0;34m(self, buffer, nbytes, flags)\u001B[0m\n\u001B[1;32m   1239\u001B[0m                   \u001B[0;34m\"non-zero flags not allowed in calls to recv_into() on %s\"\u001B[0m \u001B[0;34m%\u001B[0m\u001B[0;34m\u001B[0m\u001B[0;34m\u001B[0m\u001B[0m\n\u001B[1;32m   1240\u001B[0m                   self.__class__)\n\u001B[0;32m-> 1241\u001B[0;31m             \u001B[0;32mreturn\u001B[0m \u001B[0mself\u001B[0m\u001B[0;34m.\u001B[0m\u001B[0mread\u001B[0m\u001B[0;34m(\u001B[0m\u001B[0mnbytes\u001B[0m\u001B[0;34m,\u001B[0m \u001B[0mbuffer\u001B[0m\u001B[0;34m)\u001B[0m\u001B[0;34m\u001B[0m\u001B[0;34m\u001B[0m\u001B[0m\n\u001B[0m\u001B[1;32m   1242\u001B[0m         \u001B[0;32melse\u001B[0m\u001B[0;34m:\u001B[0m\u001B[0;34m\u001B[0m\u001B[0;34m\u001B[0m\u001B[0m\n\u001B[1;32m   1243\u001B[0m             \u001B[0;32mreturn\u001B[0m \u001B[0msuper\u001B[0m\u001B[0;34m(\u001B[0m\u001B[0;34m)\u001B[0m\u001B[0;34m.\u001B[0m\u001B[0mrecv_into\u001B[0m\u001B[0;34m(\u001B[0m\u001B[0mbuffer\u001B[0m\u001B[0;34m,\u001B[0m \u001B[0mnbytes\u001B[0m\u001B[0;34m,\u001B[0m \u001B[0mflags\u001B[0m\u001B[0;34m)\u001B[0m\u001B[0;34m\u001B[0m\u001B[0;34m\u001B[0m\u001B[0m\n",
      "\u001B[0;32m~/conda/envs/dgl/lib/python3.8/ssl.py\u001B[0m in \u001B[0;36mread\u001B[0;34m(self, len, buffer)\u001B[0m\n\u001B[1;32m   1097\u001B[0m         \u001B[0;32mtry\u001B[0m\u001B[0;34m:\u001B[0m\u001B[0;34m\u001B[0m\u001B[0;34m\u001B[0m\u001B[0m\n\u001B[1;32m   1098\u001B[0m             \u001B[0;32mif\u001B[0m \u001B[0mbuffer\u001B[0m \u001B[0;32mis\u001B[0m \u001B[0;32mnot\u001B[0m \u001B[0;32mNone\u001B[0m\u001B[0;34m:\u001B[0m\u001B[0;34m\u001B[0m\u001B[0;34m\u001B[0m\u001B[0m\n\u001B[0;32m-> 1099\u001B[0;31m                 \u001B[0;32mreturn\u001B[0m \u001B[0mself\u001B[0m\u001B[0;34m.\u001B[0m\u001B[0m_sslobj\u001B[0m\u001B[0;34m.\u001B[0m\u001B[0mread\u001B[0m\u001B[0;34m(\u001B[0m\u001B[0mlen\u001B[0m\u001B[0;34m,\u001B[0m \u001B[0mbuffer\u001B[0m\u001B[0;34m)\u001B[0m\u001B[0;34m\u001B[0m\u001B[0;34m\u001B[0m\u001B[0m\n\u001B[0m\u001B[1;32m   1100\u001B[0m             \u001B[0;32melse\u001B[0m\u001B[0;34m:\u001B[0m\u001B[0;34m\u001B[0m\u001B[0;34m\u001B[0m\u001B[0m\n\u001B[1;32m   1101\u001B[0m                 \u001B[0;32mreturn\u001B[0m \u001B[0mself\u001B[0m\u001B[0;34m.\u001B[0m\u001B[0m_sslobj\u001B[0m\u001B[0;34m.\u001B[0m\u001B[0mread\u001B[0m\u001B[0;34m(\u001B[0m\u001B[0mlen\u001B[0m\u001B[0;34m)\u001B[0m\u001B[0;34m\u001B[0m\u001B[0;34m\u001B[0m\u001B[0m\n",
      "\u001B[0;31mKeyboardInterrupt\u001B[0m: "
     ]
    }
   ],
   "source": [
    "for entity_type in entity_dic:\n",
    "    sample = np.random.choice(np.array(list(entity_dic[entity_type].values())),2000)\n",
    "    for id in sample:        \n",
    "        conn.upsertVertex(entity_type, id ,{})"
   ]
  },
  {
   "cell_type": "code",
   "execution_count": 77,
   "id": "f64c4fc2",
   "metadata": {},
   "outputs": [],
   "source": [
    "triple_count = len(triplets)\n",
    "sample = np.random.choice(np.arange(triple_count),5000)\n",
    "for i in sample:\n",
    "    [h,r,t] = triplets[i]\n",
    "    h_type = h.split(\"::\")[0].replace(\" \" ,\"\")\n",
    "    h_id = str(h.split(\"::\")[1])\n",
    "    t_type = t.split(\"::\")[0].replace(\" \" ,\"\")\n",
    "    t_id = str(t.split(\"::\")[1])\n",
    "    r = r.replace(\" \",\"\").replace(\":\",\"\").replace(\"+\",\"\").replace(\">\",\"\").replace(\"-\",\"\")\n",
    "    \n",
    "    conn.upsertEdge(h_type, h_id, r, t_type, t_id)"
   ]
  },
  {
   "cell_type": "code",
   "execution_count": 62,
   "id": "3afae333",
   "metadata": {},
   "outputs": [
    {
     "name": "stdout",
     "output_type": "stream",
     "text": [
      "Gene 39220\n",
      "Compound 24313\n",
      "Disease 5103\n",
      "Atc 4048\n",
      "Tax 215\n",
      "BiologicalProcess 11381\n",
      "Symptom 415\n",
      "Anatomy 400\n",
      "MolecularFunction 2884\n",
      "PharmacologicClass 345\n",
      "CellularComponent 1391\n",
      "Pathway 1822\n",
      "SideEffect 5701\n"
     ]
    }
   ],
   "source": [
    "for entity_type in entity_dic:\n",
    "    print(entity_type, len(entity_dic[entity_type]))"
   ]
  },
  {
   "cell_type": "markdown",
   "id": "c51d9525",
   "metadata": {},
   "source": [
    "### Pushing specific diseases\n"
   ]
  },
  {
   "cell_type": "code",
   "execution_count": 134,
   "id": "d0554dc7",
   "metadata": {},
   "outputs": [
    {
     "name": "stdout",
     "output_type": "stream",
     "text": [
      "30\n"
     ]
    }
   ],
   "source": [
    "disease_triples = []\n",
    "for triple in triplets:\n",
    "    [h,r,t] = triple\n",
    "    if h==\"Disease::SARS-CoV2 M\" or t == \"Disease::SARS-CoV2 M\":\n",
    "        disease_triples.append(triple)\n",
    "print(len(disease_triples))        "
   ]
  },
  {
   "cell_type": "code",
   "execution_count": 137,
   "id": "3f4e432e",
   "metadata": {},
   "outputs": [],
   "source": [
    "for triple in disease_triples:\n",
    "    [h,r,t] = triple\n",
    "    h_type = h.split(\"::\")[0].replace(\" \" ,\"\")\n",
    "    h_id = str(h.split(\"::\")[1])\n",
    "    t_type = t.split(\"::\")[0].replace(\" \" ,\"\")\n",
    "    t_id = str(t.split(\"::\")[1])\n",
    "    r = r.replace(\" \",\"\").replace(\":\",\"\").replace(\"+\",\"\").replace(\">\",\"\").replace(\"-\",\"\")\n",
    "    \n",
    "    conn.upsertEdge(h_type, h_id, r, t_type, t_id)"
   ]
  },
  {
   "cell_type": "code",
   "execution_count": null,
   "id": "cdc72da4",
   "metadata": {},
   "outputs": [],
   "source": [
    "print(conn.gsql(\"\"))"
   ]
  },
  {
   "cell_type": "markdown",
   "id": "c8b62e85",
   "metadata": {},
   "source": [
    "## Fetching some data"
   ]
  },
  {
   "cell_type": "code",
   "execution_count": 86,
   "id": "9b2ba76d",
   "metadata": {},
   "outputs": [
    {
     "data": {
      "text/html": [
       "<div>\n",
       "<style scoped>\n",
       "    .dataframe tbody tr th:only-of-type {\n",
       "        vertical-align: middle;\n",
       "    }\n",
       "\n",
       "    .dataframe tbody tr th {\n",
       "        vertical-align: top;\n",
       "    }\n",
       "\n",
       "    .dataframe thead th {\n",
       "        text-align: right;\n",
       "    }\n",
       "</style>\n",
       "<table border=\"1\" class=\"dataframe\">\n",
       "  <thead>\n",
       "    <tr style=\"text-align: right;\">\n",
       "      <th></th>\n",
       "      <th>v_id</th>\n",
       "      <th>Id</th>\n",
       "    </tr>\n",
       "  </thead>\n",
       "  <tbody>\n",
       "    <tr>\n",
       "      <th>0</th>\n",
       "      <td>Gene::811</td>\n",
       "      <td>Gene::811</td>\n",
       "    </tr>\n",
       "    <tr>\n",
       "      <th>1</th>\n",
       "      <td>Gene::5104</td>\n",
       "      <td>Gene::5104</td>\n",
       "    </tr>\n",
       "    <tr>\n",
       "      <th>2</th>\n",
       "      <td>Gene::2103</td>\n",
       "      <td>Gene::2103</td>\n",
       "    </tr>\n",
       "    <tr>\n",
       "      <th>3</th>\n",
       "      <td>Gene::50</td>\n",
       "      <td>Gene::50</td>\n",
       "    </tr>\n",
       "    <tr>\n",
       "      <th>4</th>\n",
       "      <td>Gene::6132</td>\n",
       "      <td>Gene::6132</td>\n",
       "    </tr>\n",
       "  </tbody>\n",
       "</table>\n",
       "</div>"
      ],
      "text/plain": [
       "         v_id          Id\n",
       "0   Gene::811   Gene::811\n",
       "1  Gene::5104  Gene::5104\n",
       "2  Gene::2103  Gene::2103\n",
       "3    Gene::50    Gene::50\n",
       "4  Gene::6132  Gene::6132"
      ]
     },
     "execution_count": 86,
     "metadata": {},
     "output_type": "execute_result"
    }
   ],
   "source": [
    "df = conn.getVertexDataframe(\"Gene\", limit=10)\n",
    "df.head()"
   ]
  },
  {
   "cell_type": "markdown",
   "id": "ab67b95f",
   "metadata": {},
   "source": [
    "## From multi-graph to simple graph"
   ]
  },
  {
   "cell_type": "code",
   "execution_count": 87,
   "id": "faaa1cb3",
   "metadata": {},
   "outputs": [],
   "source": [
    "import networkx as nx"
   ]
  },
  {
   "cell_type": "code",
   "execution_count": 104,
   "id": "c6231c18",
   "metadata": {},
   "outputs": [],
   "source": [
    "g = nx.Graph()"
   ]
  },
  {
   "cell_type": "code",
   "execution_count": 98,
   "id": "5099f673",
   "metadata": {},
   "outputs": [
    {
     "name": "stdout",
     "output_type": "stream",
     "text": [
      "4974652\n"
     ]
    }
   ],
   "source": [
    "node_ids = {(h,t) for [h,r,t] in triplets}\n",
    "print(len(node_ids))"
   ]
  },
  {
   "cell_type": "code",
   "execution_count": 105,
   "id": "acd9e4a3",
   "metadata": {
    "scrolled": true
   },
   "outputs": [],
   "source": [
    "g.add_edges_from(list(node_ids))"
   ]
  },
  {
   "cell_type": "code",
   "execution_count": 124,
   "id": "8ec74261",
   "metadata": {},
   "outputs": [
    {
     "name": "stdout",
     "output_type": "stream",
     "text": [
      "nodes:  97238 edges:  4400766\n"
     ]
    }
   ],
   "source": [
    "print(\"nodes: \", len(g.nodes()), \"edges: \", len(g.edges()))"
   ]
  },
  {
   "cell_type": "code",
   "execution_count": 126,
   "id": "5c63c0e4",
   "metadata": {},
   "outputs": [],
   "source": [
    "nx.write_gexf(g, \"./test.gephi\")"
   ]
  },
  {
   "cell_type": "code",
   "execution_count": null,
   "id": "b828b217",
   "metadata": {},
   "outputs": [],
   "source": []
  }
 ],
 "metadata": {
  "kernelspec": {
   "display_name": "Python 3 (ipykernel)",
   "language": "python",
   "name": "python3"
  },
  "language_info": {
   "codemirror_mode": {
    "name": "ipython",
    "version": 3
   },
   "file_extension": ".py",
   "mimetype": "text/x-python",
   "name": "python",
   "nbconvert_exporter": "python",
   "pygments_lexer": "ipython3",
   "version": "3.8.12"
  }
 },
 "nbformat": 4,
 "nbformat_minor": 5
}