{
 "cells": [
  {
   "cell_type": "markdown",
   "id": "422a0a8f",
   "metadata": {},
   "source": [
    "# Visualization"
   ]
  },
  {
   "cell_type": "code",
   "execution_count": 3,
   "id": "5c859433",
   "metadata": {},
   "outputs": [],
   "source": [
    "import pandas as pd\n",
    "import networkx as nx"
   ]
  },
  {
   "cell_type": "code",
   "execution_count": 48,
   "id": "1b0fb69a",
   "metadata": {},
   "outputs": [],
   "source": [
    "data_path = \"./drkg.tsv\"\n",
    "df = pd.read_csv(data_path, sep=\"\\t\",header = None, names=[\"h\",\"r\",\"t\"])"
   ]
  },
  {
   "cell_type": "code",
   "execution_count": 40,
   "id": "a5182871",
   "metadata": {},
   "outputs": [
    {
     "data": {
      "text/html": [
       "<div>\n",
       "<style scoped>\n",
       "    .dataframe tbody tr th:only-of-type {\n",
       "        vertical-align: middle;\n",
       "    }\n",
       "\n",
       "    .dataframe tbody tr th {\n",
       "        vertical-align: top;\n",
       "    }\n",
       "\n",
       "    .dataframe thead th {\n",
       "        text-align: right;\n",
       "    }\n",
       "</style>\n",
       "<table border=\"1\" class=\"dataframe\">\n",
       "  <thead>\n",
       "    <tr style=\"text-align: right;\">\n",
       "      <th></th>\n",
       "      <th>h</th>\n",
       "      <th>r</th>\n",
       "      <th>t</th>\n",
       "    </tr>\n",
       "  </thead>\n",
       "  <tbody>\n",
       "    <tr>\n",
       "      <th>0</th>\n",
       "      <td>Gene::2157</td>\n",
       "      <td>bioarx::HumGenHumGen:Gene:Gene</td>\n",
       "      <td>Gene::2157</td>\n",
       "    </tr>\n",
       "    <tr>\n",
       "      <th>1</th>\n",
       "      <td>Gene::2157</td>\n",
       "      <td>bioarx::HumGenHumGen:Gene:Gene</td>\n",
       "      <td>Gene::5264</td>\n",
       "    </tr>\n",
       "    <tr>\n",
       "      <th>2</th>\n",
       "      <td>Gene::2157</td>\n",
       "      <td>bioarx::HumGenHumGen:Gene:Gene</td>\n",
       "      <td>Gene::2158</td>\n",
       "    </tr>\n",
       "    <tr>\n",
       "      <th>3</th>\n",
       "      <td>Gene::2157</td>\n",
       "      <td>bioarx::HumGenHumGen:Gene:Gene</td>\n",
       "      <td>Gene::3309</td>\n",
       "    </tr>\n",
       "    <tr>\n",
       "      <th>4</th>\n",
       "      <td>Gene::2157</td>\n",
       "      <td>bioarx::HumGenHumGen:Gene:Gene</td>\n",
       "      <td>Gene::28912</td>\n",
       "    </tr>\n",
       "  </tbody>\n",
       "</table>\n",
       "</div>"
      ],
      "text/plain": [
       "            h                               r            t\n",
       "0  Gene::2157  bioarx::HumGenHumGen:Gene:Gene   Gene::2157\n",
       "1  Gene::2157  bioarx::HumGenHumGen:Gene:Gene   Gene::5264\n",
       "2  Gene::2157  bioarx::HumGenHumGen:Gene:Gene   Gene::2158\n",
       "3  Gene::2157  bioarx::HumGenHumGen:Gene:Gene   Gene::3309\n",
       "4  Gene::2157  bioarx::HumGenHumGen:Gene:Gene  Gene::28912"
      ]
     },
     "execution_count": 40,
     "metadata": {},
     "output_type": "execute_result"
    }
   ],
   "source": [
    "df.head()"
   ]
  },
  {
   "cell_type": "code",
   "execution_count": 46,
   "id": "b122a596",
   "metadata": {},
   "outputs": [
    {
     "name": "stdout",
     "output_type": "stream",
     "text": [
      "nodes:  97238 edges:  4400766\n"
     ]
    }
   ],
   "source": [
    "print(\"nodes: \", len(g.nodes()), \"edges: \", len(g.edges()))"
   ]
  },
  {
   "cell_type": "markdown",
   "id": "ceecc5e1",
   "metadata": {},
   "source": [
    "We'll remove the relationship name as well as the rows with the same head and tail so the loops are ignored:"
   ]
  },
  {
   "cell_type": "code",
   "execution_count": 52,
   "id": "e5278772",
   "metadata": {},
   "outputs": [],
   "source": [
    "df.drop(columns = [\"r\"], inplace=True)"
   ]
  },
  {
   "cell_type": "code",
   "execution_count": 43,
   "id": "f4631e8c",
   "metadata": {},
   "outputs": [],
   "source": [
    "df.drop_duplicates(inplace=True)"
   ]
  },
  {
   "cell_type": "code",
   "execution_count": 54,
   "id": "6d69de2d",
   "metadata": {},
   "outputs": [],
   "source": [
    "df.drop(df[df[\"h\"]==df[\"t\"]].index, inplace=True)"
   ]
  },
  {
   "cell_type": "markdown",
   "id": "eb8507ef",
   "metadata": {},
   "source": [
    "Creating a simple graph (ie. a Graph, not a MultiGraph instance) will ensure that the multiple edges are merged to one:"
   ]
  },
  {
   "cell_type": "code",
   "execution_count": 57,
   "id": "441dc66e",
   "metadata": {},
   "outputs": [],
   "source": [
    "g = nx.from_pandas_edgelist(df,\"h\",\"t\")"
   ]
  },
  {
   "cell_type": "markdown",
   "id": "73906f5f",
   "metadata": {},
   "source": [
    "There are now no loops in the graph:"
   ]
  },
  {
   "cell_type": "code",
   "execution_count": 59,
   "id": "e25ba915",
   "metadata": {},
   "outputs": [
    {
     "data": {
      "text/plain": [
       "[]"
      ]
     },
     "execution_count": 59,
     "metadata": {},
     "output_type": "execute_result"
    }
   ],
   "source": [
    "list(nx.selfloop_edges(g))"
   ]
  },
  {
   "cell_type": "markdown",
   "id": "1b16ee46",
   "metadata": {},
   "source": [
    "Can now export to a format that can be used for visualization purposes. Gml is probably the most lightweight format but still generates around 210MB:"
   ]
  },
  {
   "cell_type": "code",
   "execution_count": 61,
   "id": "dd241589",
   "metadata": {},
   "outputs": [],
   "source": [
    "nx.write_gml(g, \"./drkf.gml\")"
   ]
  },
  {
   "cell_type": "code",
   "execution_count": null,
   "id": "827ab9f4",
   "metadata": {},
   "outputs": [],
   "source": []
  }
 ],
 "metadata": {
  "kernelspec": {
   "display_name": "Python 3 (ipykernel)",
   "language": "python",
   "name": "python3"
  },
  "language_info": {
   "codemirror_mode": {
    "name": "ipython",
    "version": 3
   },
   "file_extension": ".py",
   "mimetype": "text/x-python",
   "name": "python",
   "nbconvert_exporter": "python",
   "pygments_lexer": "ipython3",
   "version": "3.8.12"
  }
 },
 "nbformat": 4,
 "nbformat_minor": 5
}
